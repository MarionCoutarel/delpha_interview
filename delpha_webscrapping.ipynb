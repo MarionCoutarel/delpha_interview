{
 "cells": [
  {
   "cell_type": "code",
   "execution_count": 1,
   "id": "e2580699",
   "metadata": {
    "ExecuteTime": {
     "end_time": "2022-12-05T20:57:41.151022Z",
     "start_time": "2022-12-05T20:57:38.036852Z"
    }
   },
   "outputs": [],
   "source": [
    "import numpy as np\n",
    "import pandas as pd\n",
    "import undetected_chromedriver as uc\n",
    "from time import sleep\n",
    "from selenium import webdriver\n",
    "from selenium.webdriver.common.by import By\n",
    "from selenium.webdriver.common.keys import Keys\n",
    "from selenium.webdriver import ActionChains\n",
    "from selenium.webdriver.common.actions.action_builder import ActionBuilder\n",
    "from selenium.webdriver.support.wait import WebDriverWait"
   ]
  },
  {
   "cell_type": "markdown",
   "id": "4add9444",
   "metadata": {},
   "source": [
    "# Scrapping"
   ]
  },
  {
   "cell_type": "code",
   "execution_count": 2,
   "id": "7d0e3484",
   "metadata": {
    "ExecuteTime": {
     "end_time": "2022-12-05T20:58:16.088349Z",
     "start_time": "2022-12-05T20:57:43.243676Z"
    }
   },
   "outputs": [],
   "source": [
    "firms = [\"Microsoft\",\"Salesforce\",\"Bouygues Construction\", \"BNP P\",\"HSBC\",\"Dataiku\"]\n",
    "wikidata_scrap = {}\n",
    "\n",
    "# first entry \n",
    "driver = uc.Chrome()\n",
    "driver.get(\"https://www.wikidata.org/\") # open wikidata.org\n",
    "sleep(5) #to be sure the page is load\n",
    "\n",
    "# getting to the company page\n",
    "search_bar = driver.find_element(By.ID,\"searchInput\")\n",
    "search_bar.clear #erase text\n",
    "search_bar.send_keys(firms[0])\n",
    "sleep(2)\n",
    "search_bar.send_keys(Keys.DOWN)\n",
    "search_bar.send_keys(Keys.ENTER)\n",
    "\n",
    "#get the adress part\n",
    "try :\n",
    "    adress = WebDriverWait(driver, timeout=4).until(lambda d: d.find_element(By.ID,'P159'))\n",
    "    adress = adress.text.split('\\n')\n",
    "except:\n",
    "    adress = np.nan\n",
    "#website\n",
    "try:\n",
    "    website = driver.find_element(By.ID,'P856')\n",
    "    website = website.text.split('\\n')\n",
    "except:\n",
    "    website = np.nan\n",
    "#revenue\n",
    "try:\n",
    "    revenue = driver.find_element(By.ID,'P2139')\n",
    "    revenue = revenue.text.split('\\n')\n",
    "except:\n",
    "    revenue = np.nan\n",
    "#n_employee\n",
    "try:\n",
    "    n_empl = driver.find_element(By.ID,'P1128')\n",
    "    n_empl = n_empl.text.split('\\n')\n",
    "except:\n",
    "    n_empl = np.nan\n",
    "#social media\n",
    "## twitter\n",
    "try:\n",
    "    twitter = driver.find_element(By.ID,'P2002')\n",
    "    twitter = twitter.text.split('\\n')\n",
    "except:\n",
    "    twitter = np.nan\n",
    "## linkedin\n",
    "try:\n",
    "    linkedIn = driver.find_element(By.ID,'P4264')\n",
    "    linkedIn = linkedIn.text.split('\\n')\n",
    "except:\n",
    "    linkedIn = np.nan\n",
    "## instagram\n",
    "try:\n",
    "    insta = driver.find_element(By.ID,'P2003')\n",
    "    insta = insta.text.split('\\n')\n",
    "except:\n",
    "    insta = np.nan\n",
    "## facebook\n",
    "try:\n",
    "    fb = driver.find_element(By.ID,'P2013')\n",
    "    fb = fb.text.split('\\n')\n",
    "except:\n",
    "    fb = np.nan\n",
    "\n",
    "wikidata_scrap[firms[0]] = [adress,website,revenue,n_empl,[twitter,linkedIn,insta,fb]]\n",
    "\n",
    "\n",
    "for firm in firms[1:]:\n",
    "\n",
    "    # getting to the company page\n",
    "    search_bar = driver.find_element(By.ID,\"searchInput\")\n",
    "    search_bar.clear #erase text\n",
    "    search_bar.send_keys(firm)\n",
    "    sleep(2)\n",
    "    search_bar.send_keys(Keys.DOWN)\n",
    "    search_bar.send_keys(Keys.ENTER)\n",
    "\n",
    "    #get the adress part\n",
    "    try :\n",
    "        adress = WebDriverWait(driver, timeout=4).until(lambda d: d.find_element(By.ID,'P159'))\n",
    "        adress = adress.text.split('\\n')\n",
    "    except:\n",
    "        adress = np.nan\n",
    "    #website\n",
    "    try:\n",
    "        website = driver.find_element(By.ID,'P856')\n",
    "        website = website.text.split('\\n')\n",
    "    except:\n",
    "        website = np.nan\n",
    "    #revenue\n",
    "    try:\n",
    "        revenue = driver.find_element(By.ID,'P2139')\n",
    "        revenue = revenue.text.split('\\n')\n",
    "    except:\n",
    "        revenue = np.nan\n",
    "    #n_employee\n",
    "    try:\n",
    "        n_empl = driver.find_element(By.ID,'P1128')\n",
    "        n_empl = n_empl.text.split('\\n')\n",
    "    except:\n",
    "        n_empl = np.nan\n",
    "    #social media\n",
    "    ## twitter\n",
    "    try:\n",
    "        twitter = driver.find_element(By.ID,'P2002')\n",
    "        twitter = twitter.text.split('\\n')\n",
    "    except:\n",
    "        twitter = np.nan\n",
    "    ## linkedin\n",
    "    try:\n",
    "        linkedIn = driver.find_element(By.ID,'P4264')\n",
    "        linkedIn = linkedIn.text.split('\\n')\n",
    "    except:\n",
    "        linkedIn = np.nan\n",
    "    ## instagram\n",
    "    try:\n",
    "        insta = driver.find_element(By.ID,'P2003')\n",
    "        insta = insta.text.split('\\n')\n",
    "    except:\n",
    "        insta = np.nan\n",
    "    ## facebook\n",
    "    try:\n",
    "        fb = driver.find_element(By.ID,'P2013')\n",
    "        fb = fb.text.split('\\n')\n",
    "    except:\n",
    "        fb = np.nan\n",
    "    \n",
    "    wikidata_scrap[firm] = [adress,website,revenue,n_empl,[twitter,linkedIn,insta,fb]]\n",
    "\n"
   ]
  },
  {
   "cell_type": "code",
   "execution_count": 3,
   "id": "3e41b4ec",
   "metadata": {
    "ExecuteTime": {
     "end_time": "2022-12-05T20:58:39.259156Z",
     "start_time": "2022-12-05T20:58:39.232246Z"
    }
   },
   "outputs": [
    {
     "data": {
      "text/plain": [
       "{'Microsoft': [['headquarters location',\n",
       "   'Redmond',\n",
       "   'postal code',\n",
       "   '98052',\n",
       "   'country',\n",
       "   'United States of America',\n",
       "   'location',\n",
       "   'Microsoft Redmond Campus',\n",
       "   'street address',\n",
       "   'One Microsoft Way (English)',\n",
       "   'coordinate location',\n",
       "   '+',\n",
       "   '−',\n",
       "   '1 km',\n",
       "   'Wikimedia maps | Map data ©',\n",
       "   '47°38\\'24\"N, 122°7\\'41\"W',\n",
       "   'house number',\n",
       "   '1',\n",
       "   '1 reference'],\n",
       "  ['official website',\n",
       "   'https://www.microsoft.com/',\n",
       "   'language of work or name',\n",
       "   'English',\n",
       "   '1 reference',\n",
       "   'https://www.microsoft.com/en-gb',\n",
       "   'applies to jurisdiction',\n",
       "   'United Kingdom',\n",
       "   'language of work or name',\n",
       "   'English',\n",
       "   '1 reference',\n",
       "   'https://www.microsoft.com/de-de/',\n",
       "   'language of work or name',\n",
       "   'German',\n",
       "   'applies to jurisdiction',\n",
       "   'Germany',\n",
       "   '1 reference'],\n",
       "  ['total revenue',\n",
       "   '93,580,000,000±1,000,000 United States dollar',\n",
       "   'point in time',\n",
       "   '2015',\n",
       "   'criterion used',\n",
       "   'fiscal year',\n",
       "   '1 reference',\n",
       "   '86,833,000,000±1,000,000 United States dollar',\n",
       "   'point in time',\n",
       "   '2014',\n",
       "   '1 reference',\n",
       "   '77,849,000,000±1,000,000 United States dollar',\n",
       "   'point in time',\n",
       "   '2013',\n",
       "   '1 reference',\n",
       "   '73,723,000,000±1,000,000 United States dollar',\n",
       "   'point in time',\n",
       "   '2012',\n",
       "   '1 reference',\n",
       "   '69,943,000,000±1,000,000 United States dollar',\n",
       "   'point in time',\n",
       "   '2011',\n",
       "   '1 reference',\n",
       "   '85,320,000,000 United States dollar',\n",
       "   'point in time',\n",
       "   '2016',\n",
       "   'criterion used',\n",
       "   'fiscal year',\n",
       "   '1 reference',\n",
       "   '89,950,000,000 United States dollar',\n",
       "   'point in time',\n",
       "   '2017',\n",
       "   'criterion used',\n",
       "   'fiscal year',\n",
       "   'United States Generally Accepted Accounting Principles',\n",
       "   '1 reference',\n",
       "   '110,360,000,000 United States dollar',\n",
       "   'point in time',\n",
       "   '2018',\n",
       "   'criterion used',\n",
       "   'fiscal year',\n",
       "   '1 reference',\n",
       "   '125,843,000,000 United States dollar',\n",
       "   'point in time',\n",
       "   '2019',\n",
       "   'criterion used',\n",
       "   'fiscal year',\n",
       "   '1 reference',\n",
       "   '143,015,000,000 United States dollar',\n",
       "   'point in time',\n",
       "   '2020',\n",
       "   '2 references',\n",
       "   '168,088,000,000 United States dollar',\n",
       "   'point in time',\n",
       "   '2021',\n",
       "   'criterion used',\n",
       "   'fiscal year',\n",
       "   '1 reference',\n",
       "   '198,270,000,000 United States dollar',\n",
       "   'point in time',\n",
       "   '2022',\n",
       "   '1 reference'],\n",
       "  ['employees',\n",
       "   '127,104',\n",
       "   'point in time',\n",
       "   '5 June 2014',\n",
       "   '1 reference',\n",
       "   '114,000',\n",
       "   'point in time',\n",
       "   '30 June 2016',\n",
       "   '1 reference',\n",
       "   '120,849',\n",
       "   'point in time',\n",
       "   '31 December 2016',\n",
       "   '1 reference',\n",
       "   '131,300',\n",
       "   'point in time',\n",
       "   '2018',\n",
       "   '1 reference',\n",
       "   '140,768',\n",
       "   'point in time',\n",
       "   '30 June 2018',\n",
       "   '1 reference',\n",
       "   '144,000',\n",
       "   'point in time',\n",
       "   '30 June 2019',\n",
       "   '1 reference',\n",
       "   '118,000',\n",
       "   'point in time',\n",
       "   '30 June 2015',\n",
       "   '1 reference',\n",
       "   '124,000',\n",
       "   'point in time',\n",
       "   '30 June 2017',\n",
       "   '1 reference',\n",
       "   '163,000',\n",
       "   'point in time',\n",
       "   '30 June 2020',\n",
       "   '1 reference',\n",
       "   '181,000',\n",
       "   'point in time',\n",
       "   '30 June 2021',\n",
       "   '1 reference'],\n",
       "  [['Twitter username',\n",
       "    'Microsoft',\n",
       "    'number of subscribers',\n",
       "    '8,449,148',\n",
       "    'applies to jurisdiction',\n",
       "    'worldwide',\n",
       "    'Twitter user numeric ID',\n",
       "    '74286565',\n",
       "    'point in time',\n",
       "    '10 May 2018',\n",
       "    'start time',\n",
       "    '14 September 2009',\n",
       "    'has quality',\n",
       "    'verified account or profile',\n",
       "    'language of work or name',\n",
       "    'English',\n",
       "    '1 reference',\n",
       "    'MicrosoftUK',\n",
       "    'applies to jurisdiction',\n",
       "    'United Kingdom',\n",
       "    'Twitter user numeric ID',\n",
       "    '720474368',\n",
       "    'has quality',\n",
       "    'verified account or profile',\n",
       "    'point in time',\n",
       "    '7 March 2020',\n",
       "    'start time',\n",
       "    '27 July 2012',\n",
       "    'language of work or name',\n",
       "    'British English',\n",
       "    '0 references',\n",
       "    'MicrosoftHelps',\n",
       "    'Twitter user numeric ID',\n",
       "    '75691804',\n",
       "    'has quality',\n",
       "    'verified account or profile',\n",
       "    'point in time',\n",
       "    '7 March 2020',\n",
       "    'start time',\n",
       "    '20 September 2009',\n",
       "    'object has role',\n",
       "    'support account',\n",
       "    '0 references',\n",
       "    'MSFTIssues',\n",
       "    'Twitter user numeric ID',\n",
       "    '20180686',\n",
       "    'has quality',\n",
       "    'verified account or profile',\n",
       "    'point in time',\n",
       "    '7 March 2020',\n",
       "    'start time',\n",
       "    '5 February 2009',\n",
       "    '0 references',\n",
       "    'MSFTMechanics',\n",
       "    'Twitter user numeric ID',\n",
       "    '1648629770',\n",
       "    'has quality',\n",
       "    'verified account or profile',\n",
       "    'point in time',\n",
       "    '7 March 2020',\n",
       "    'start time',\n",
       "    '5 August 2013',\n",
       "    '0 references',\n",
       "    'msftsecresponse',\n",
       "    'Twitter user numeric ID',\n",
       "    '116285769',\n",
       "    'has quality',\n",
       "    'verified account or profile',\n",
       "    'start time',\n",
       "    '21 February 2010',\n",
       "    'point in time',\n",
       "    '29 December 2020',\n",
       "    '0 references',\n",
       "    'msftsecurity',\n",
       "    'Twitter user numeric ID',\n",
       "    '208214219',\n",
       "    'has quality',\n",
       "    'verified account or profile',\n",
       "    'start time',\n",
       "    '26 October 2010',\n",
       "    'point in time',\n",
       "    '29 December 2020',\n",
       "    '0 references',\n",
       "    'msuspartner',\n",
       "    'Twitter user numeric ID',\n",
       "    '21451819',\n",
       "    'has quality',\n",
       "    'verified account or profile',\n",
       "    'start time',\n",
       "    '21 February 2009',\n",
       "    'point in time',\n",
       "    '29 December 2020',\n",
       "    '0 references',\n",
       "    'mslearningcurve',\n",
       "    'Twitter user numeric ID',\n",
       "    '61233202',\n",
       "    'has quality',\n",
       "    'verified account or profile',\n",
       "    'start time',\n",
       "    '29 July 2009',\n",
       "    'point in time',\n",
       "    '29 December 2020',\n",
       "    '0 references',\n",
       "    'MSFTnews',\n",
       "    'Twitter user numeric ID',\n",
       "    '24741685',\n",
       "    'has quality',\n",
       "    'verified account or profile',\n",
       "    'start time',\n",
       "    '16 March 2009',\n",
       "    'point in time',\n",
       "    '14 January 2021',\n",
       "    '0 references',\n",
       "    'MicrosoftDE',\n",
       "    'applies to jurisdiction',\n",
       "    'Germany',\n",
       "    'language of work or name',\n",
       "    'German',\n",
       "    'point in time',\n",
       "    '23 October 2021',\n",
       "    'subject named as',\n",
       "    'Microsoft Germany',\n",
       "    'has quality',\n",
       "    'verified account or profile',\n",
       "    'number of subscribers',\n",
       "    '38,147',\n",
       "    'start time',\n",
       "    'April 2009',\n",
       "    'Twitter user numeric ID',\n",
       "    '29719618',\n",
       "    '1 reference',\n",
       "    'OpenAtMicrosoft',\n",
       "    'language of work or name',\n",
       "    'English',\n",
       "    'subject named as',\n",
       "    'Open at Microsoft',\n",
       "    'point in time',\n",
       "    '23 October 2021',\n",
       "    'number of subscribers',\n",
       "    '70,155',\n",
       "    'has quality',\n",
       "    'verified account or profile',\n",
       "    'Twitter user numeric ID',\n",
       "    '45036289',\n",
       "    'start time',\n",
       "    'June 2009',\n",
       "    'applies to jurisdiction',\n",
       "    'worldwide',\n",
       "    '1 reference'],\n",
       "   ['LinkedIn organization ID',\n",
       "    'microsoft',\n",
       "    'language of work or name',\n",
       "    'English',\n",
       "    'subject named as',\n",
       "    'Microsoft',\n",
       "    'point in time',\n",
       "    '23 October 2021',\n",
       "    'number of subscribers',\n",
       "    '15,394,115',\n",
       "    '1 reference'],\n",
       "   ['Instagram username',\n",
       "    'microsoft',\n",
       "    'point in time',\n",
       "    '23 October 2021',\n",
       "    'number of subscribers',\n",
       "    '3,400,000',\n",
       "    'has quality',\n",
       "    'verified account or profile',\n",
       "    'subject named as',\n",
       "    'Microsoft',\n",
       "    'language of work or name',\n",
       "    'English',\n",
       "    '0 references',\n",
       "    'microsoftdeutschland',\n",
       "    'language of work or name',\n",
       "    'German',\n",
       "    'point in time',\n",
       "    '23 October 2021',\n",
       "    'subject named as',\n",
       "    'Microsoft',\n",
       "    'number of subscribers',\n",
       "    '71,200',\n",
       "    'has quality',\n",
       "    'verified account or profile',\n",
       "    '1 reference'],\n",
       "   ['Facebook ID',\n",
       "    'Microsoft',\n",
       "    'language of work or name',\n",
       "    'English',\n",
       "    'applies to jurisdiction',\n",
       "    'worldwide',\n",
       "    'subject named as',\n",
       "    'Microsoft',\n",
       "    'point in time',\n",
       "    '23 October 2021',\n",
       "    'number of subscribers',\n",
       "    '14,209,103',\n",
       "    'start time',\n",
       "    '8 January 2008',\n",
       "    '1 reference',\n",
       "    'MicrosoftDE',\n",
       "    'language of work or name',\n",
       "    'German',\n",
       "    'applies to jurisdiction',\n",
       "    'Germany',\n",
       "    'subject named as',\n",
       "    'Microsoft',\n",
       "    'has quality',\n",
       "    'verified account or profile',\n",
       "    'point in time',\n",
       "    '23 October 2021',\n",
       "    'number of subscribers',\n",
       "    '14,147,140',\n",
       "    'start time',\n",
       "    '27 September 2010',\n",
       "    '1 reference']]],\n",
       " 'Salesforce': [['headquarters location',\n",
       "   'Salesforce Tower',\n",
       "   'street address',\n",
       "   '415 Mission Street, 3rd Floor, San Francisco, CA 94105 (English)',\n",
       "   '1 reference'],\n",
       "  ['official website',\n",
       "   'https://www.salesforce.com',\n",
       "   'language of work or name',\n",
       "   'English',\n",
       "   '0 references'],\n",
       "  nan,\n",
       "  ['employees',\n",
       "   '767',\n",
       "   'point in time',\n",
       "   '2005',\n",
       "   '1 reference',\n",
       "   '1,304',\n",
       "   'point in time',\n",
       "   '2006',\n",
       "   '1 reference',\n",
       "   '2,070',\n",
       "   'point in time',\n",
       "   '2007',\n",
       "   '1 reference',\n",
       "   '2,606',\n",
       "   'point in time',\n",
       "   '2008',\n",
       "   '1 reference',\n",
       "   '3,566',\n",
       "   'point in time',\n",
       "   '2009',\n",
       "   '1 reference',\n",
       "   '3,969',\n",
       "   'point in time',\n",
       "   '2010',\n",
       "   '1 reference',\n",
       "   '5,306',\n",
       "   'point in time',\n",
       "   '2011',\n",
       "   '1 reference',\n",
       "   '7,785',\n",
       "   'point in time',\n",
       "   '2012',\n",
       "   '1 reference',\n",
       "   '9,800',\n",
       "   'point in time',\n",
       "   '2013',\n",
       "   '1 reference',\n",
       "   '13,300',\n",
       "   'point in time',\n",
       "   '2014',\n",
       "   '1 reference',\n",
       "   '16,000',\n",
       "   'point in time',\n",
       "   '2015',\n",
       "   '1 reference',\n",
       "   '19,000',\n",
       "   'point in time',\n",
       "   '2016',\n",
       "   '1 reference',\n",
       "   '25,000',\n",
       "   'point in time',\n",
       "   '2017',\n",
       "   '1 reference',\n",
       "   '29,000',\n",
       "   'point in time',\n",
       "   '2018',\n",
       "   '1 reference',\n",
       "   '35,000',\n",
       "   'point in time',\n",
       "   '2019',\n",
       "   '1 reference'],\n",
       "  [['Twitter username',\n",
       "    'salesforce',\n",
       "    'number of subscribers',\n",
       "    '495,594',\n",
       "    'Twitter user numeric ID',\n",
       "    '33612317',\n",
       "    'has quality',\n",
       "    'verified account or profile',\n",
       "    'start time',\n",
       "    '20 April 2009',\n",
       "    'point in time',\n",
       "    '23 April 2020',\n",
       "    'edit',\n",
       "    '1 reference',\n",
       "    'SalesforceNews',\n",
       "    'Twitter user numeric ID',\n",
       "    '900086244499111936',\n",
       "    'has quality',\n",
       "    'verified account or profile',\n",
       "    'number of subscribers',\n",
       "    '13,549',\n",
       "    'start time',\n",
       "    '22 August 2017',\n",
       "    'point in time',\n",
       "    '27 April 2020',\n",
       "    'edit',\n",
       "    '0 references',\n",
       "    'add reference',\n",
       "    'SalesforceOrg',\n",
       "    'Twitter user numeric ID',\n",
       "    '36958179',\n",
       "    'has quality',\n",
       "    'verified account or profile',\n",
       "    'number of subscribers',\n",
       "    '68,629',\n",
       "    'start time',\n",
       "    '1 May 2009',\n",
       "    'point in time',\n",
       "    '27 April 2020',\n",
       "    'edit',\n",
       "    '0 references',\n",
       "    'add reference',\n",
       "    'SalesforceEng',\n",
       "    'Twitter user numeric ID',\n",
       "    '487253140',\n",
       "    'has quality',\n",
       "    'verified account or profile',\n",
       "    'start time',\n",
       "    '9 February 2012',\n",
       "    'point in time',\n",
       "    '29 December 2020',\n",
       "    'edit',\n",
       "    '0 references',\n",
       "    'add reference',\n",
       "    'add value'],\n",
       "   ['LinkedIn organization ID',\n",
       "    'salesforce',\n",
       "    'edit',\n",
       "    '0 references',\n",
       "    'add reference',\n",
       "    'add value'],\n",
       "   ['Instagram username', 'salesforce', 'edit', '1 reference', 'add value'],\n",
       "   ['Facebook ID',\n",
       "    '5634829153',\n",
       "    'edit',\n",
       "    '0 references',\n",
       "    'add reference',\n",
       "    'add value']]],\n",
       " 'Bouygues Construction': [['headquarters location', 'France', '1 reference'],\n",
       "  ['official website', 'http://www.bouygues-construction.com/', '1 reference'],\n",
       "  nan,\n",
       "  nan,\n",
       "  [nan, nan, nan, nan]],\n",
       " 'BNP P': [['headquarters location',\n",
       "   'Paris',\n",
       "   'postal code',\n",
       "   '75009',\n",
       "   '75002',\n",
       "   'country',\n",
       "   'France',\n",
       "   'street address',\n",
       "   '16 Boulevard des Italiens (French)',\n",
       "   \"3, rue d'Antin (French)\",\n",
       "   '1 reference'],\n",
       "  ['official website',\n",
       "   'https://www.bnpparibas.fr/',\n",
       "   'language of work or name',\n",
       "   'French',\n",
       "   '1 reference'],\n",
       "  nan,\n",
       "  ['employees', '192,000', 'point in time', '2016', '1 reference'],\n",
       "  [['Twitter username',\n",
       "    'bnpp_recrut',\n",
       "    'number of subscribers',\n",
       "    '14,268',\n",
       "    'Twitter user numeric ID',\n",
       "    '110656748',\n",
       "    'point in time',\n",
       "    '10 May 2018',\n",
       "    'has quality',\n",
       "    'verified account or profile',\n",
       "    'start time',\n",
       "    '2 February 2010',\n",
       "    'object has role',\n",
       "    'recruitment',\n",
       "    '0 references',\n",
       "    'BNPParibas_SAV',\n",
       "    'number of subscribers',\n",
       "    '14,391',\n",
       "    'Twitter user numeric ID',\n",
       "    '207492509',\n",
       "    'point in time',\n",
       "    '10 May 2018',\n",
       "    'has quality',\n",
       "    'verified account or profile',\n",
       "    'start time',\n",
       "    '25 October 2010',\n",
       "    '0 references',\n",
       "    'BNPParibas',\n",
       "    'number of subscribers',\n",
       "    '62,121',\n",
       "    'Twitter user numeric ID',\n",
       "    '27955989',\n",
       "    'point in time',\n",
       "    '10 May 2018',\n",
       "    'has quality',\n",
       "    'verified account or profile',\n",
       "    'start time',\n",
       "    '31 March 2009',\n",
       "    '0 references',\n",
       "    'mabanque_bnpp',\n",
       "    'Twitter user numeric ID',\n",
       "    '74419919',\n",
       "    'has quality',\n",
       "    'verified account or profile',\n",
       "    'start time',\n",
       "    '15 September 2009',\n",
       "    'point in time',\n",
       "    '31 May 2021',\n",
       "    '0 references'],\n",
       "   ['LinkedIn organization ID',\n",
       "    'bnp-paribas',\n",
       "    'edit',\n",
       "    '0 references',\n",
       "    'add reference',\n",
       "    'add value'],\n",
       "   ['Instagram username',\n",
       "    'bnpparibas',\n",
       "    'edit',\n",
       "    '0 references',\n",
       "    'add reference',\n",
       "    'add value'],\n",
       "   ['Facebook ID',\n",
       "    'mabanque.bnpparibas',\n",
       "    'edit',\n",
       "    '0 references',\n",
       "    'add reference',\n",
       "    'add value']]],\n",
       " 'HSBC': [['headquarters location',\n",
       "   '8 Canada Square',\n",
       "   'location',\n",
       "   'London',\n",
       "   'country',\n",
       "   'United Kingdom',\n",
       "   '2 references'],\n",
       "  ['official website',\n",
       "   'https://www.hsbc.com/',\n",
       "   'language of work or name',\n",
       "   'English',\n",
       "   '0 references',\n",
       "   'https://www.hsbc.co.uk',\n",
       "   'applies to jurisdiction',\n",
       "   'England',\n",
       "   '0 references'],\n",
       "  ['total revenue',\n",
       "   '59,836,000,000 United States dollar',\n",
       "   'point in time',\n",
       "   '2016',\n",
       "   '1 reference',\n",
       "   '71,092,000,000 United States dollar',\n",
       "   'point in time',\n",
       "   '2015',\n",
       "   '1 reference',\n",
       "   '74,593,000,000 United States dollar',\n",
       "   'point in time',\n",
       "   '2014',\n",
       "   '1 reference',\n",
       "   '78,337,000,000 United States dollar',\n",
       "   'point in time',\n",
       "   '2013',\n",
       "   '1 reference',\n",
       "   '82,545,000,000 United States dollar',\n",
       "   'point in time',\n",
       "   '2012',\n",
       "   '1 reference',\n",
       "   '51,445,000,000 United States dollar',\n",
       "   'point in time',\n",
       "   '2017',\n",
       "   '2 references'],\n",
       "  ['employees',\n",
       "   '241,000',\n",
       "   'point in time',\n",
       "   '31 December 2016',\n",
       "   '1 reference',\n",
       "   '255,000',\n",
       "   'point in time',\n",
       "   '31 December 2015',\n",
       "   '1 reference',\n",
       "   '228,000',\n",
       "   'point in time',\n",
       "   '2017',\n",
       "   '2 references'],\n",
       "  [['Twitter username',\n",
       "    'HSBC',\n",
       "    'Twitter user numeric ID',\n",
       "    '467368287',\n",
       "    'has quality',\n",
       "    'verified account or profile',\n",
       "    'point in time',\n",
       "    '29 February 2020',\n",
       "    'start time',\n",
       "    '18 January 2012',\n",
       "    '0 references'],\n",
       "   ['LinkedIn organization ID', 'hsbc', '0 references'],\n",
       "   ['Instagram username', 'hsbc', '0 references'],\n",
       "   ['Facebook ID', 'HSBC', '0 references']]],\n",
       " 'Dataiku': [['headquarters location', 'Paris', '0 references'],\n",
       "  ['official website', 'http://www.dataiku.com/', '1 reference'],\n",
       "  nan,\n",
       "  nan,\n",
       "  [['Twitter username',\n",
       "    'dataiku',\n",
       "    'number of subscribers',\n",
       "    '19,408',\n",
       "    'Twitter user numeric ID',\n",
       "    '816825631',\n",
       "    'has quality',\n",
       "    'verified account or profile',\n",
       "    'start time',\n",
       "    '11 September 2012',\n",
       "    'point in time',\n",
       "    '19 April 2020',\n",
       "    '1 reference'],\n",
       "   nan,\n",
       "   nan,\n",
       "   nan]]}"
      ]
     },
     "execution_count": 3,
     "metadata": {},
     "output_type": "execute_result"
    }
   ],
   "source": [
    "wikidata_scrap"
   ]
  },
  {
   "cell_type": "markdown",
   "id": "a3d6df4f",
   "metadata": {
    "ExecuteTime": {
     "end_time": "2022-11-26T17:34:57.683386Z",
     "start_time": "2022-11-26T17:34:57.668377Z"
    }
   },
   "source": [
    "# table construction\n",
    "## Microsoft"
   ]
  },
  {
   "cell_type": "code",
   "execution_count": 4,
   "id": "c4679673",
   "metadata": {
    "ExecuteTime": {
     "end_time": "2022-12-05T20:58:55.462856Z",
     "start_time": "2022-12-05T20:58:55.456874Z"
    }
   },
   "outputs": [],
   "source": [
    "microsoft = wikidata_scrap[\"Microsoft\"]"
   ]
  },
  {
   "cell_type": "markdown",
   "id": "5181ef96",
   "metadata": {},
   "source": [
    "### Address"
   ]
  },
  {
   "cell_type": "code",
   "execution_count": 5,
   "id": "f41ab5de",
   "metadata": {
    "ExecuteTime": {
     "end_time": "2022-12-05T20:58:57.457579Z",
     "start_time": "2022-12-05T20:58:57.441652Z"
    }
   },
   "outputs": [],
   "source": [
    "address_list = microsoft[0]"
   ]
  },
  {
   "cell_type": "code",
   "execution_count": 6,
   "id": "75c14af4",
   "metadata": {
    "ExecuteTime": {
     "end_time": "2022-12-05T20:58:59.532027Z",
     "start_time": "2022-12-05T20:58:59.525046Z"
    }
   },
   "outputs": [],
   "source": [
    "address = address_list[9].split('(')[0]+\",\"+ address_list[1]+ \",\"+address_list[3]+ \",\"+address_list[5]"
   ]
  },
  {
   "cell_type": "code",
   "execution_count": 7,
   "id": "8efc54b0",
   "metadata": {
    "ExecuteTime": {
     "end_time": "2022-12-05T20:59:01.128589Z",
     "start_time": "2022-12-05T20:59:01.109653Z"
    }
   },
   "outputs": [
    {
     "data": {
      "text/plain": [
       "'One Microsoft Way ,Redmond,98052,United States of America'"
      ]
     },
     "execution_count": 7,
     "metadata": {},
     "output_type": "execute_result"
    }
   ],
   "source": [
    "address"
   ]
  },
  {
   "cell_type": "markdown",
   "id": "4851afba",
   "metadata": {},
   "source": [
    "### website"
   ]
  },
  {
   "cell_type": "code",
   "execution_count": 8,
   "id": "8f8a95c7",
   "metadata": {
    "ExecuteTime": {
     "end_time": "2022-12-05T20:59:03.252905Z",
     "start_time": "2022-12-05T20:59:03.244929Z"
    }
   },
   "outputs": [],
   "source": [
    "website = microsoft[1][1]"
   ]
  },
  {
   "cell_type": "code",
   "execution_count": 9,
   "id": "5c054338",
   "metadata": {
    "ExecuteTime": {
     "end_time": "2022-12-05T20:59:04.966486Z",
     "start_time": "2022-12-05T20:59:04.957577Z"
    }
   },
   "outputs": [
    {
     "data": {
      "text/plain": [
       "'https://www.microsoft.com/'"
      ]
     },
     "execution_count": 9,
     "metadata": {},
     "output_type": "execute_result"
    }
   ],
   "source": [
    "website"
   ]
  },
  {
   "cell_type": "markdown",
   "id": "334f2afd",
   "metadata": {},
   "source": [
    "### revenue"
   ]
  },
  {
   "cell_type": "code",
   "execution_count": 10,
   "id": "93ae67d1",
   "metadata": {
    "ExecuteTime": {
     "end_time": "2022-12-05T20:59:08.354811Z",
     "start_time": "2022-12-05T20:59:08.347775Z"
    },
    "scrolled": true
   },
   "outputs": [],
   "source": [
    "revenue = microsoft[2][-4]"
   ]
  },
  {
   "cell_type": "code",
   "execution_count": 11,
   "id": "6ef9d13a",
   "metadata": {
    "ExecuteTime": {
     "end_time": "2022-12-05T20:59:10.722463Z",
     "start_time": "2022-12-05T20:59:10.715405Z"
    }
   },
   "outputs": [],
   "source": [
    "revenue = revenue.split(\" \")[0].replace(\",\",\"\")"
   ]
  },
  {
   "cell_type": "code",
   "execution_count": 12,
   "id": "20532d72",
   "metadata": {
    "ExecuteTime": {
     "end_time": "2022-12-05T20:59:36.433089Z",
     "start_time": "2022-12-05T20:59:36.427110Z"
    }
   },
   "outputs": [
    {
     "data": {
      "text/plain": [
       "'198270000000'"
      ]
     },
     "execution_count": 12,
     "metadata": {},
     "output_type": "execute_result"
    }
   ],
   "source": [
    "revenue"
   ]
  },
  {
   "cell_type": "markdown",
   "id": "12c5a48c",
   "metadata": {
    "ExecuteTime": {
     "end_time": "2022-11-26T18:15:49.622201Z",
     "start_time": "2022-11-26T18:15:49.608201Z"
    }
   },
   "source": [
    "### number of employee"
   ]
  },
  {
   "cell_type": "code",
   "execution_count": 13,
   "id": "911a5bcf",
   "metadata": {
    "ExecuteTime": {
     "end_time": "2022-12-05T20:59:40.572111Z",
     "start_time": "2022-12-05T20:59:40.557143Z"
    }
   },
   "outputs": [],
   "source": [
    "n_emp = microsoft[3][-4]\n",
    "n_emp = n_emp.replace(\",\",\"\")"
   ]
  },
  {
   "cell_type": "code",
   "execution_count": 14,
   "id": "29942491",
   "metadata": {
    "ExecuteTime": {
     "end_time": "2022-12-05T20:59:42.324633Z",
     "start_time": "2022-12-05T20:59:42.312671Z"
    }
   },
   "outputs": [
    {
     "data": {
      "text/plain": [
       "'181000'"
      ]
     },
     "execution_count": 14,
     "metadata": {},
     "output_type": "execute_result"
    }
   ],
   "source": [
    "n_emp"
   ]
  },
  {
   "cell_type": "markdown",
   "id": "37e51cc7",
   "metadata": {},
   "source": [
    "### Social media"
   ]
  },
  {
   "cell_type": "code",
   "execution_count": 15,
   "id": "3fd4d1b7",
   "metadata": {
    "ExecuteTime": {
     "end_time": "2022-12-05T20:59:45.144941Z",
     "start_time": "2022-12-05T20:59:45.133915Z"
    }
   },
   "outputs": [],
   "source": [
    "twitter_rac = microsoft[4][0][1].lower()"
   ]
  },
  {
   "cell_type": "code",
   "execution_count": 16,
   "id": "52120e2b",
   "metadata": {
    "ExecuteTime": {
     "end_time": "2022-12-05T20:59:46.778519Z",
     "start_time": "2022-12-05T20:59:46.772595Z"
    }
   },
   "outputs": [
    {
     "data": {
      "text/plain": [
       "'microsoft'"
      ]
     },
     "execution_count": 16,
     "metadata": {},
     "output_type": "execute_result"
    }
   ],
   "source": [
    "twitter_rac"
   ]
  },
  {
   "cell_type": "code",
   "execution_count": 17,
   "id": "66c3055b",
   "metadata": {
    "ExecuteTime": {
     "end_time": "2022-12-05T20:59:49.546625Z",
     "start_time": "2022-12-05T20:59:49.528965Z"
    }
   },
   "outputs": [],
   "source": [
    "social_media = [\"https://twitter.com/\"+twitter_rac]"
   ]
  },
  {
   "cell_type": "code",
   "execution_count": 18,
   "id": "4324692f",
   "metadata": {
    "ExecuteTime": {
     "end_time": "2022-12-05T20:59:52.971068Z",
     "start_time": "2022-12-05T20:59:52.956106Z"
    }
   },
   "outputs": [],
   "source": [
    "linkedIn_rac = microsoft[4][1][1]"
   ]
  },
  {
   "cell_type": "code",
   "execution_count": 19,
   "id": "54f76228",
   "metadata": {
    "ExecuteTime": {
     "end_time": "2022-12-05T20:59:56.725036Z",
     "start_time": "2022-12-05T20:59:56.711040Z"
    }
   },
   "outputs": [],
   "source": [
    "social_media.append(\"https://www.linkedin.com/company/\"+linkedIn_rac)"
   ]
  },
  {
   "cell_type": "code",
   "execution_count": 20,
   "id": "4591885a",
   "metadata": {
    "ExecuteTime": {
     "end_time": "2022-12-05T20:59:58.369381Z",
     "start_time": "2022-12-05T20:59:58.353408Z"
    }
   },
   "outputs": [],
   "source": [
    "insta_rac = microsoft[4][2][1]\n",
    "social_media.append(\"https://www.instagram.com/\"+insta_rac)"
   ]
  },
  {
   "cell_type": "code",
   "execution_count": 21,
   "id": "5af87b61",
   "metadata": {
    "ExecuteTime": {
     "end_time": "2022-12-05T21:00:00.698944Z",
     "start_time": "2022-12-05T21:00:00.682999Z"
    }
   },
   "outputs": [],
   "source": [
    "social_media.append(\"https://www.facebook.com/\"+microsoft[4][3][1].lower())"
   ]
  },
  {
   "cell_type": "code",
   "execution_count": 22,
   "id": "857e562b",
   "metadata": {
    "ExecuteTime": {
     "end_time": "2022-12-05T21:00:02.525212Z",
     "start_time": "2022-12-05T21:00:02.509838Z"
    },
    "scrolled": true
   },
   "outputs": [
    {
     "data": {
      "text/plain": [
       "['https://twitter.com/microsoft',\n",
       " 'https://www.linkedin.com/company/microsoft',\n",
       " 'https://www.instagram.com/microsoft',\n",
       " 'https://www.facebook.com/microsoft']"
      ]
     },
     "execution_count": 22,
     "metadata": {},
     "output_type": "execute_result"
    }
   ],
   "source": [
    "social_media"
   ]
  },
  {
   "cell_type": "markdown",
   "id": "02643897",
   "metadata": {},
   "source": [
    "### microsoft entry"
   ]
  },
  {
   "cell_type": "code",
   "execution_count": 23,
   "id": "f1e678c1",
   "metadata": {
    "ExecuteTime": {
     "end_time": "2022-12-05T21:00:05.165046Z",
     "start_time": "2022-12-05T21:00:05.152093Z"
    }
   },
   "outputs": [],
   "source": [
    "microsoft_entry = [\"Microsoft\", address, website, revenue, n_emp,social_media]"
   ]
  },
  {
   "cell_type": "code",
   "execution_count": 24,
   "id": "b566d820",
   "metadata": {
    "ExecuteTime": {
     "end_time": "2022-12-05T21:00:08.735563Z",
     "start_time": "2022-12-05T21:00:08.718622Z"
    }
   },
   "outputs": [
    {
     "data": {
      "text/plain": [
       "['Microsoft',\n",
       " 'One Microsoft Way ,Redmond,98052,United States of America',\n",
       " 'https://www.microsoft.com/',\n",
       " '198270000000',\n",
       " '181000',\n",
       " ['https://twitter.com/microsoft',\n",
       "  'https://www.linkedin.com/company/microsoft',\n",
       "  'https://www.instagram.com/microsoft',\n",
       "  'https://www.facebook.com/microsoft']]"
      ]
     },
     "execution_count": 24,
     "metadata": {},
     "output_type": "execute_result"
    }
   ],
   "source": [
    "microsoft_entry"
   ]
  },
  {
   "cell_type": "markdown",
   "id": "9b0e1138",
   "metadata": {
    "ExecuteTime": {
     "end_time": "2022-11-26T18:49:27.132003Z",
     "start_time": "2022-11-26T18:49:27.117117Z"
    }
   },
   "source": [
    "## Salesforce"
   ]
  },
  {
   "cell_type": "code",
   "execution_count": 25,
   "id": "d2394b4d",
   "metadata": {
    "ExecuteTime": {
     "end_time": "2022-12-05T21:00:12.560567Z",
     "start_time": "2022-12-05T21:00:12.553649Z"
    }
   },
   "outputs": [],
   "source": [
    "salesforce = wikidata_scrap[\"Salesforce\"]"
   ]
  },
  {
   "cell_type": "markdown",
   "id": "e8a34932",
   "metadata": {},
   "source": [
    "### Address"
   ]
  },
  {
   "cell_type": "code",
   "execution_count": 26,
   "id": "dbd8338a",
   "metadata": {
    "ExecuteTime": {
     "end_time": "2022-12-05T21:00:14.965600Z",
     "start_time": "2022-12-05T21:00:14.951647Z"
    }
   },
   "outputs": [],
   "source": [
    "address = salesforce[0][3]\n",
    "address = address.split(\"(\")[0].split(\",\")"
   ]
  },
  {
   "cell_type": "code",
   "execution_count": 27,
   "id": "c729140a",
   "metadata": {
    "ExecuteTime": {
     "end_time": "2022-12-05T21:00:17.040439Z",
     "start_time": "2022-12-05T21:00:17.033532Z"
    }
   },
   "outputs": [],
   "source": [
    "address = address[0]+\",\"+address[2]+\",\"+address[3].split(\" \")[1]"
   ]
  },
  {
   "cell_type": "code",
   "execution_count": 28,
   "id": "5d4db2d9",
   "metadata": {
    "ExecuteTime": {
     "end_time": "2022-12-05T21:00:18.556673Z",
     "start_time": "2022-12-05T21:00:18.543671Z"
    }
   },
   "outputs": [
    {
     "data": {
      "text/plain": [
       "'415 Mission Street, San Francisco,CA'"
      ]
     },
     "execution_count": 28,
     "metadata": {},
     "output_type": "execute_result"
    }
   ],
   "source": [
    "address"
   ]
  },
  {
   "cell_type": "markdown",
   "id": "8a9e684a",
   "metadata": {},
   "source": [
    "### website"
   ]
  },
  {
   "cell_type": "code",
   "execution_count": 29,
   "id": "23b9ed2a",
   "metadata": {
    "ExecuteTime": {
     "end_time": "2022-12-05T21:00:20.782674Z",
     "start_time": "2022-12-05T21:00:20.765731Z"
    }
   },
   "outputs": [],
   "source": [
    "website = salesforce[1][1]"
   ]
  },
  {
   "cell_type": "markdown",
   "id": "4a9b5b29",
   "metadata": {
    "ExecuteTime": {
     "end_time": "2022-11-26T19:11:36.914495Z",
     "start_time": "2022-11-26T19:11:36.901186Z"
    }
   },
   "source": [
    "### Revenue"
   ]
  },
  {
   "cell_type": "code",
   "execution_count": 30,
   "id": "270ac3c3",
   "metadata": {
    "ExecuteTime": {
     "end_time": "2022-12-05T21:00:22.710465Z",
     "start_time": "2022-12-05T21:00:22.701496Z"
    }
   },
   "outputs": [
    {
     "data": {
      "text/plain": [
       "nan"
      ]
     },
     "execution_count": 30,
     "metadata": {},
     "output_type": "execute_result"
    }
   ],
   "source": [
    "salesforce[2]"
   ]
  },
  {
   "cell_type": "code",
   "execution_count": 33,
   "id": "2d7ad11d",
   "metadata": {
    "ExecuteTime": {
     "end_time": "2022-12-05T21:03:34.066933Z",
     "start_time": "2022-12-05T21:03:24.763206Z"
    }
   },
   "outputs": [],
   "source": [
    "driver2 = uc.Chrome()\n",
    "driver2.get(\"https://fr.wikipedia.org/wiki/Salesforce\") # open wikipedia.org\n",
    "sleep(5) #to be sure the page is load\n",
    "revenue = driver2.find_element(By.XPATH, '//*[@id=\"mw-content-text\"]/div[1]/table/tbody/tr[19]/td/p')\n",
    "revenue = revenue.text.split(\" \")[0].replace(',','.')\n"
   ]
  },
  {
   "cell_type": "code",
   "execution_count": 34,
   "id": "eb1b3f96",
   "metadata": {
    "ExecuteTime": {
     "end_time": "2022-12-05T21:03:41.414321Z",
     "start_time": "2022-12-05T21:03:41.399702Z"
    }
   },
   "outputs": [],
   "source": [
    "revenue = float(revenue)*1000000000"
   ]
  },
  {
   "cell_type": "code",
   "execution_count": 35,
   "id": "b7387eee",
   "metadata": {
    "ExecuteTime": {
     "end_time": "2022-12-05T21:03:43.104834Z",
     "start_time": "2022-12-05T21:03:43.085339Z"
    }
   },
   "outputs": [
    {
     "data": {
      "text/plain": [
       "21250000000.0"
      ]
     },
     "execution_count": 35,
     "metadata": {},
     "output_type": "execute_result"
    }
   ],
   "source": [
    "revenue"
   ]
  },
  {
   "cell_type": "markdown",
   "id": "bc7e66a5",
   "metadata": {},
   "source": [
    "### number of employee"
   ]
  },
  {
   "cell_type": "code",
   "execution_count": 36,
   "id": "5984e608",
   "metadata": {
    "ExecuteTime": {
     "end_time": "2022-12-05T21:03:46.868344Z",
     "start_time": "2022-12-05T21:03:46.863402Z"
    }
   },
   "outputs": [],
   "source": [
    "n_emp = salesforce[3][-4].replace(\",\",\"\")"
   ]
  },
  {
   "cell_type": "code",
   "execution_count": 37,
   "id": "04000f64",
   "metadata": {
    "ExecuteTime": {
     "end_time": "2022-12-05T21:03:48.266837Z",
     "start_time": "2022-12-05T21:03:48.256809Z"
    }
   },
   "outputs": [
    {
     "data": {
      "text/plain": [
       "'35000'"
      ]
     },
     "execution_count": 37,
     "metadata": {},
     "output_type": "execute_result"
    }
   ],
   "source": [
    "n_emp"
   ]
  },
  {
   "cell_type": "markdown",
   "id": "d681c920",
   "metadata": {
    "ExecuteTime": {
     "end_time": "2022-11-26T19:14:06.358393Z",
     "start_time": "2022-11-26T19:14:06.351059Z"
    }
   },
   "source": [
    "### Social media"
   ]
  },
  {
   "cell_type": "code",
   "execution_count": 38,
   "id": "239596c7",
   "metadata": {
    "ExecuteTime": {
     "end_time": "2022-12-05T21:03:50.822747Z",
     "start_time": "2022-12-05T21:03:50.804759Z"
    }
   },
   "outputs": [],
   "source": [
    "twitter_rac = salesforce[4][0][1]"
   ]
  },
  {
   "cell_type": "code",
   "execution_count": 39,
   "id": "b4dbf286",
   "metadata": {
    "ExecuteTime": {
     "end_time": "2022-12-05T21:03:52.670919Z",
     "start_time": "2022-12-05T21:03:52.661959Z"
    }
   },
   "outputs": [],
   "source": [
    "social_media = [\"https://twitter.com/\"+twitter_rac.lower()]"
   ]
  },
  {
   "cell_type": "code",
   "execution_count": 40,
   "id": "b2a0ecc9",
   "metadata": {
    "ExecuteTime": {
     "end_time": "2022-12-05T21:03:54.209057Z",
     "start_time": "2022-12-05T21:03:54.198024Z"
    }
   },
   "outputs": [],
   "source": [
    "social_media.append(\"https://www.linkedin.com/company/\"+salesforce[4][1][1])"
   ]
  },
  {
   "cell_type": "code",
   "execution_count": 41,
   "id": "468da9fc",
   "metadata": {
    "ExecuteTime": {
     "end_time": "2022-12-05T21:03:55.639464Z",
     "start_time": "2022-12-05T21:03:55.626296Z"
    }
   },
   "outputs": [],
   "source": [
    "social_media.append(\"https://www.instagram.com/\"+salesforce[4][2][1])"
   ]
  },
  {
   "cell_type": "code",
   "execution_count": 42,
   "id": "bbcf88c4",
   "metadata": {
    "ExecuteTime": {
     "end_time": "2022-12-05T21:03:57.515066Z",
     "start_time": "2022-12-05T21:03:57.498083Z"
    }
   },
   "outputs": [],
   "source": [
    "social_media.append(\"https://www.facebook.com/\"+salesforce[4][3][1])"
   ]
  },
  {
   "cell_type": "code",
   "execution_count": 43,
   "id": "4166884c",
   "metadata": {
    "ExecuteTime": {
     "end_time": "2022-12-05T21:03:59.681203Z",
     "start_time": "2022-12-05T21:03:59.668620Z"
    }
   },
   "outputs": [
    {
     "data": {
      "text/plain": [
       "['https://twitter.com/salesforce',\n",
       " 'https://www.linkedin.com/company/salesforce',\n",
       " 'https://www.instagram.com/salesforce',\n",
       " 'https://www.facebook.com/5634829153']"
      ]
     },
     "execution_count": 43,
     "metadata": {},
     "output_type": "execute_result"
    }
   ],
   "source": [
    "social_media"
   ]
  },
  {
   "cell_type": "markdown",
   "id": "40c245ee",
   "metadata": {
    "ExecuteTime": {
     "end_time": "2022-11-26T19:23:21.070676Z",
     "start_time": "2022-11-26T19:23:21.055038Z"
    }
   },
   "source": [
    "### Salesforce entry"
   ]
  },
  {
   "cell_type": "code",
   "execution_count": 44,
   "id": "f093d762",
   "metadata": {
    "ExecuteTime": {
     "end_time": "2022-12-05T21:04:02.098447Z",
     "start_time": "2022-12-05T21:04:02.091818Z"
    }
   },
   "outputs": [],
   "source": [
    "salesforce_entry = [\"Salesforce\", address, website, revenue, n_emp,social_media]"
   ]
  },
  {
   "cell_type": "code",
   "execution_count": 45,
   "id": "cdd34e4b",
   "metadata": {
    "ExecuteTime": {
     "end_time": "2022-12-05T21:04:03.804687Z",
     "start_time": "2022-12-05T21:04:03.795142Z"
    }
   },
   "outputs": [
    {
     "data": {
      "text/plain": [
       "['Salesforce',\n",
       " '415 Mission Street, San Francisco,CA',\n",
       " 'https://www.salesforce.com',\n",
       " 21250000000.0,\n",
       " '35000',\n",
       " ['https://twitter.com/salesforce',\n",
       "  'https://www.linkedin.com/company/salesforce',\n",
       "  'https://www.instagram.com/salesforce',\n",
       "  'https://www.facebook.com/5634829153']]"
      ]
     },
     "execution_count": 45,
     "metadata": {},
     "output_type": "execute_result"
    }
   ],
   "source": [
    "salesforce_entry"
   ]
  },
  {
   "cell_type": "markdown",
   "id": "026bf542",
   "metadata": {},
   "source": [
    "## Bouygues Construction"
   ]
  },
  {
   "cell_type": "code",
   "execution_count": 46,
   "id": "5d0c4760",
   "metadata": {
    "ExecuteTime": {
     "end_time": "2022-12-05T21:04:06.273470Z",
     "start_time": "2022-12-05T21:04:06.269039Z"
    }
   },
   "outputs": [],
   "source": [
    "bouygues = wikidata_scrap[\"Bouygues Construction\"] # -> no data"
   ]
  },
  {
   "cell_type": "code",
   "execution_count": 61,
   "id": "a69d47bf",
   "metadata": {
    "ExecuteTime": {
     "end_time": "2022-12-05T21:11:36.669783Z",
     "start_time": "2022-12-05T21:11:26.141297Z"
    }
   },
   "outputs": [],
   "source": [
    "driver2 = uc.Chrome()\n",
    "driver2.get(\"https://fr.wikipedia.org/wiki/Bouygues_Construction\") # open wikipedia.org\n",
    "sleep(5) #to be sure the page is load\n",
    "address = driver2.find_element(By.XPATH, '//*[@id=\"mw-content-text\"]/div[1]/table[1]/tbody/tr[9]/td')"
   ]
  },
  {
   "cell_type": "markdown",
   "id": "00b1695d",
   "metadata": {},
   "source": [
    "### address"
   ]
  },
  {
   "cell_type": "code",
   "execution_count": 63,
   "id": "55eebe98",
   "metadata": {
    "ExecuteTime": {
     "end_time": "2022-12-05T21:12:19.215957Z",
     "start_time": "2022-12-05T21:12:19.199039Z"
    }
   },
   "outputs": [],
   "source": [
    "\n",
    "address = address.text.split('\\n')[0]\n"
   ]
  },
  {
   "cell_type": "code",
   "execution_count": 64,
   "id": "b2f8dbc4",
   "metadata": {
    "ExecuteTime": {
     "end_time": "2022-12-05T21:12:21.145185Z",
     "start_time": "2022-12-05T21:12:21.126272Z"
    }
   },
   "outputs": [
    {
     "data": {
      "text/plain": [
       "'Challenger , Guyancourt ,Saint-Quentin-en-Yvelines,'"
      ]
     },
     "execution_count": 64,
     "metadata": {},
     "output_type": "execute_result"
    }
   ],
   "source": [
    "address = address.replace(\"à\",\",\").replace('(',',').replace(')',',')\n",
    "address"
   ]
  },
  {
   "cell_type": "markdown",
   "id": "94fbba6f",
   "metadata": {},
   "source": [
    "### website"
   ]
  },
  {
   "cell_type": "code",
   "execution_count": 65,
   "id": "02b6a3e3",
   "metadata": {
    "ExecuteTime": {
     "end_time": "2022-12-05T21:12:27.040288Z",
     "start_time": "2022-12-05T21:12:27.009321Z"
    }
   },
   "outputs": [],
   "source": [
    "website = driver2.find_element(By.XPATH,'//*[@id=\"mw-content-text\"]/div[1]/table[1]/tbody/tr[17]/td/a')\n"
   ]
  },
  {
   "cell_type": "code",
   "execution_count": 66,
   "id": "a771d803",
   "metadata": {
    "ExecuteTime": {
     "end_time": "2022-12-05T21:12:28.796066Z",
     "start_time": "2022-12-05T21:12:28.765427Z"
    }
   },
   "outputs": [],
   "source": [
    "website = website.text"
   ]
  },
  {
   "cell_type": "code",
   "execution_count": 67,
   "id": "bdec9290",
   "metadata": {
    "ExecuteTime": {
     "end_time": "2022-12-05T21:12:35.057622Z",
     "start_time": "2022-12-05T21:12:35.047641Z"
    }
   },
   "outputs": [
    {
     "data": {
      "text/plain": [
       "'bouygues-construction.com'"
      ]
     },
     "execution_count": 67,
     "metadata": {},
     "output_type": "execute_result"
    }
   ],
   "source": [
    "website"
   ]
  },
  {
   "cell_type": "markdown",
   "id": "32d2311e",
   "metadata": {
    "ExecuteTime": {
     "end_time": "2022-11-26T19:35:15.893268Z",
     "start_time": "2022-11-26T19:35:15.879316Z"
    }
   },
   "source": [
    "### Revenue"
   ]
  },
  {
   "cell_type": "code",
   "execution_count": 65,
   "id": "1df1e5e7",
   "metadata": {
    "ExecuteTime": {
     "end_time": "2022-11-27T09:31:42.709998Z",
     "start_time": "2022-11-27T09:31:42.687039Z"
    }
   },
   "outputs": [],
   "source": [
    "revenue = driver2.find_element(By.XPATH,'//*[@id=\"mw-content-text\"]/div[1]/table[1]/tbody/tr[19]/td')"
   ]
  },
  {
   "cell_type": "code",
   "execution_count": 52,
   "id": "c4f3fb20",
   "metadata": {
    "ExecuteTime": {
     "end_time": "2022-12-05T21:07:51.871907Z",
     "start_time": "2022-12-05T21:07:51.851974Z"
    }
   },
   "outputs": [],
   "source": [
    "revenue = revenue.text"
   ]
  },
  {
   "cell_type": "code",
   "execution_count": 53,
   "id": "ce41f852",
   "metadata": {
    "ExecuteTime": {
     "end_time": "2022-12-05T21:07:54.572872Z",
     "start_time": "2022-12-05T21:07:54.553937Z"
    }
   },
   "outputs": [],
   "source": [
    "revenue = revenue.split(' ')[0].replace(\",\",\".\")"
   ]
  },
  {
   "cell_type": "code",
   "execution_count": 54,
   "id": "88413144",
   "metadata": {
    "ExecuteTime": {
     "end_time": "2022-12-05T21:07:58.968259Z",
     "start_time": "2022-12-05T21:07:58.961284Z"
    }
   },
   "outputs": [],
   "source": [
    "revenue = round(float(revenue)*0.96,1)*1000000000 # 0.96 exchange rate euro dollar according to google on 11/27/22"
   ]
  },
  {
   "cell_type": "code",
   "execution_count": 55,
   "id": "215baef6",
   "metadata": {
    "ExecuteTime": {
     "end_time": "2022-12-05T21:08:01.469648Z",
     "start_time": "2022-12-05T21:08:01.447262Z"
    }
   },
   "outputs": [
    {
     "data": {
      "text/plain": [
       "12300000000.0"
      ]
     },
     "execution_count": 55,
     "metadata": {},
     "output_type": "execute_result"
    }
   ],
   "source": [
    "revenue"
   ]
  },
  {
   "cell_type": "markdown",
   "id": "0d0ffc87",
   "metadata": {},
   "source": [
    "### number of employee"
   ]
  },
  {
   "cell_type": "code",
   "execution_count": 68,
   "id": "f682226f",
   "metadata": {
    "ExecuteTime": {
     "end_time": "2022-12-05T21:12:41.716361Z",
     "start_time": "2022-12-05T21:12:41.691551Z"
    }
   },
   "outputs": [],
   "source": [
    "n_empl = driver2.find_element(By.XPATH,'//*[@id=\"mw-content-text\"]/div[1]/table[1]/tbody/tr[15]/td')"
   ]
  },
  {
   "cell_type": "code",
   "execution_count": 69,
   "id": "2490e440",
   "metadata": {
    "ExecuteTime": {
     "end_time": "2022-12-05T21:12:43.393658Z",
     "start_time": "2022-12-05T21:12:43.372730Z"
    }
   },
   "outputs": [],
   "source": [
    "n_empl = n_empl.text.split(\"en\")[0]"
   ]
  },
  {
   "cell_type": "code",
   "execution_count": 70,
   "id": "39d46d3d",
   "metadata": {
    "ExecuteTime": {
     "end_time": "2022-12-05T21:12:44.801397Z",
     "start_time": "2022-12-05T21:12:44.791427Z"
    }
   },
   "outputs": [],
   "source": [
    "n_empl = n_empl.replace(' ','')"
   ]
  },
  {
   "cell_type": "code",
   "execution_count": 71,
   "id": "b78ff7be",
   "metadata": {
    "ExecuteTime": {
     "end_time": "2022-12-05T21:12:50.644233Z",
     "start_time": "2022-12-05T21:12:50.634262Z"
    }
   },
   "outputs": [
    {
     "data": {
      "text/plain": [
       "'52800'"
      ]
     },
     "execution_count": 71,
     "metadata": {},
     "output_type": "execute_result"
    }
   ],
   "source": [
    "n_empl"
   ]
  },
  {
   "cell_type": "markdown",
   "id": "a3da6944",
   "metadata": {
    "ExecuteTime": {
     "end_time": "2022-11-26T19:35:52.957960Z",
     "start_time": "2022-11-26T19:35:52.943874Z"
    }
   },
   "source": [
    "### Social media"
   ]
  },
  {
   "cell_type": "markdown",
   "id": "444a0f74",
   "metadata": {},
   "source": [
    "### Bouygues Construction entry"
   ]
  },
  {
   "cell_type": "code",
   "execution_count": 72,
   "id": "4a45e702",
   "metadata": {
    "ExecuteTime": {
     "end_time": "2022-12-05T21:12:54.377665Z",
     "start_time": "2022-12-05T21:12:54.363146Z"
    }
   },
   "outputs": [],
   "source": [
    "bouygues_entry = [\"Bouygues Construction\",address, website, revenue, n_empl]"
   ]
  },
  {
   "cell_type": "code",
   "execution_count": 73,
   "id": "da48385b",
   "metadata": {
    "ExecuteTime": {
     "end_time": "2022-12-05T21:12:55.986867Z",
     "start_time": "2022-12-05T21:12:55.972924Z"
    }
   },
   "outputs": [
    {
     "data": {
      "text/plain": [
       "['Bouygues Construction',\n",
       " 'Challenger , Guyancourt ,Saint-Quentin-en-Yvelines,',\n",
       " 'bouygues-construction.com',\n",
       " 12300000000.0,\n",
       " '52800']"
      ]
     },
     "execution_count": 73,
     "metadata": {},
     "output_type": "execute_result"
    }
   ],
   "source": [
    "bouygues_entry"
   ]
  },
  {
   "cell_type": "markdown",
   "id": "eff83958",
   "metadata": {
    "ExecuteTime": {
     "end_time": "2022-11-26T19:39:45.863835Z",
     "start_time": "2022-11-26T19:39:45.857833Z"
    }
   },
   "source": [
    "## BNP Parisbas "
   ]
  },
  {
   "cell_type": "code",
   "execution_count": 74,
   "id": "9378eab3",
   "metadata": {
    "ExecuteTime": {
     "end_time": "2022-12-05T21:13:43.670510Z",
     "start_time": "2022-12-05T21:13:43.655560Z"
    }
   },
   "outputs": [],
   "source": [
    "BNP = wikidata_scrap[\"BNP P\"]"
   ]
  },
  {
   "cell_type": "markdown",
   "id": "75edcbf8",
   "metadata": {
    "ExecuteTime": {
     "end_time": "2022-11-26T19:40:12.238578Z",
     "start_time": "2022-11-26T19:40:12.230725Z"
    }
   },
   "source": [
    "### address"
   ]
  },
  {
   "cell_type": "code",
   "execution_count": 75,
   "id": "1dfdd39c",
   "metadata": {
    "ExecuteTime": {
     "end_time": "2022-12-05T21:13:45.427358Z",
     "start_time": "2022-12-05T21:13:45.414401Z"
    }
   },
   "outputs": [
    {
     "data": {
      "text/plain": [
       "['headquarters location',\n",
       " 'Paris',\n",
       " 'postal code',\n",
       " '75009',\n",
       " '75002',\n",
       " 'country',\n",
       " 'France',\n",
       " 'street address',\n",
       " '16 Boulevard des Italiens (French)',\n",
       " \"3, rue d'Antin (French)\",\n",
       " '1 reference']"
      ]
     },
     "execution_count": 75,
     "metadata": {},
     "output_type": "execute_result"
    }
   ],
   "source": [
    "address_list = BNP[0]\n",
    "address_list"
   ]
  },
  {
   "cell_type": "code",
   "execution_count": 76,
   "id": "8f1b4e8d",
   "metadata": {
    "ExecuteTime": {
     "end_time": "2022-12-05T21:13:48.299490Z",
     "start_time": "2022-12-05T21:13:48.288463Z"
    }
   },
   "outputs": [],
   "source": [
    "address = address_list[-2].split('(')[0].replace(\",\",\"\") +\",\"+address_list[1]+\",\"+address_list[4]"
   ]
  },
  {
   "cell_type": "code",
   "execution_count": 77,
   "id": "9d7181e3",
   "metadata": {
    "ExecuteTime": {
     "end_time": "2022-12-05T21:13:49.976681Z",
     "start_time": "2022-12-05T21:13:49.968708Z"
    }
   },
   "outputs": [
    {
     "data": {
      "text/plain": [
       "\"3 rue d'Antin ,Paris,75002\""
      ]
     },
     "execution_count": 77,
     "metadata": {},
     "output_type": "execute_result"
    }
   ],
   "source": [
    "address"
   ]
  },
  {
   "cell_type": "markdown",
   "id": "0a3ec676",
   "metadata": {},
   "source": [
    "### website"
   ]
  },
  {
   "cell_type": "code",
   "execution_count": 78,
   "id": "658b0411",
   "metadata": {
    "ExecuteTime": {
     "end_time": "2022-12-05T21:13:51.874857Z",
     "start_time": "2022-12-05T21:13:51.854887Z"
    }
   },
   "outputs": [
    {
     "data": {
      "text/plain": [
       "'https://www.bnpparibas.fr/'"
      ]
     },
     "execution_count": 78,
     "metadata": {},
     "output_type": "execute_result"
    }
   ],
   "source": [
    "website = BNP[1][1]\n",
    "website"
   ]
  },
  {
   "cell_type": "markdown",
   "id": "a5dacd4a",
   "metadata": {},
   "source": [
    "### Revenue"
   ]
  },
  {
   "cell_type": "code",
   "execution_count": 79,
   "id": "32761d97",
   "metadata": {
    "ExecuteTime": {
     "end_time": "2022-12-05T21:13:53.580047Z",
     "start_time": "2022-12-05T21:13:53.563148Z"
    }
   },
   "outputs": [
    {
     "data": {
      "text/plain": [
       "nan"
      ]
     },
     "execution_count": 79,
     "metadata": {},
     "output_type": "execute_result"
    }
   ],
   "source": [
    "revenue = BNP[2]\n",
    "revenue"
   ]
  },
  {
   "cell_type": "code",
   "execution_count": 80,
   "id": "bbf96626",
   "metadata": {
    "ExecuteTime": {
     "end_time": "2022-12-05T21:14:08.198808Z",
     "start_time": "2022-12-05T21:13:58.693824Z"
    }
   },
   "outputs": [
    {
     "data": {
      "text/plain": [
       "'46,235 milliards d’€ (2021)4\\n+ 4.4%'"
      ]
     },
     "execution_count": 80,
     "metadata": {},
     "output_type": "execute_result"
    }
   ],
   "source": [
    "driver2 = uc.Chrome()\n",
    "driver2.get(\"https://fr.wikipedia.org/wiki/BNP_Paribas\") # open wikipedia.org\n",
    "sleep(5) #to be sure the page is load\n",
    "revenue = driver2.find_element(By.XPATH,'//*[@id=\"mw-content-text\"]/div[1]/table[1]/tbody/tr[25]/td')\n",
    "revenue.text"
   ]
  },
  {
   "cell_type": "code",
   "execution_count": 81,
   "id": "e6207a0d",
   "metadata": {
    "ExecuteTime": {
     "end_time": "2022-12-05T21:14:14.925087Z",
     "start_time": "2022-12-05T21:14:14.909423Z"
    }
   },
   "outputs": [
    {
     "data": {
      "text/plain": [
       "44385600000.0"
      ]
     },
     "execution_count": 81,
     "metadata": {},
     "output_type": "execute_result"
    }
   ],
   "source": [
    "revenue = revenue.text.split(\" \")[0].replace(\",\",\".\")\n",
    "revenue = float(revenue)*0.96*1000000000 \n",
    "revenue"
   ]
  },
  {
   "cell_type": "markdown",
   "id": "b3614073",
   "metadata": {},
   "source": [
    "###  number of employee"
   ]
  },
  {
   "cell_type": "code",
   "execution_count": 82,
   "id": "6ec1320c",
   "metadata": {
    "ExecuteTime": {
     "end_time": "2022-12-05T21:14:25.217541Z",
     "start_time": "2022-12-05T21:14:25.199602Z"
    }
   },
   "outputs": [
    {
     "data": {
      "text/plain": [
       "['employees', '192,000', 'point in time', '2016', '1 reference']"
      ]
     },
     "execution_count": 82,
     "metadata": {},
     "output_type": "execute_result"
    }
   ],
   "source": [
    "BNP[3]"
   ]
  },
  {
   "cell_type": "code",
   "execution_count": 83,
   "id": "3f26b509",
   "metadata": {
    "ExecuteTime": {
     "end_time": "2022-12-05T21:14:26.886824Z",
     "start_time": "2022-12-05T21:14:26.879846Z"
    }
   },
   "outputs": [
    {
     "data": {
      "text/plain": [
       "'192000'"
      ]
     },
     "execution_count": 83,
     "metadata": {},
     "output_type": "execute_result"
    }
   ],
   "source": [
    "n_emp = BNP[3][1].replace(\",\",\"\")\n",
    "n_emp"
   ]
  },
  {
   "cell_type": "markdown",
   "id": "4f6ca08f",
   "metadata": {},
   "source": [
    "### Social media"
   ]
  },
  {
   "cell_type": "code",
   "execution_count": 84,
   "id": "ad739c8a",
   "metadata": {
    "ExecuteTime": {
     "end_time": "2022-12-05T21:14:29.152994Z",
     "start_time": "2022-12-05T21:14:29.132709Z"
    }
   },
   "outputs": [
    {
     "data": {
      "text/plain": [
       "['Twitter username',\n",
       " 'bnpp_recrut',\n",
       " 'number of subscribers',\n",
       " '14,268',\n",
       " 'Twitter user numeric ID',\n",
       " '110656748',\n",
       " 'point in time',\n",
       " '10 May 2018',\n",
       " 'has quality',\n",
       " 'verified account or profile',\n",
       " 'start time',\n",
       " '2 February 2010',\n",
       " 'object has role',\n",
       " 'recruitment',\n",
       " '0 references',\n",
       " 'BNPParibas_SAV',\n",
       " 'number of subscribers',\n",
       " '14,391',\n",
       " 'Twitter user numeric ID',\n",
       " '207492509',\n",
       " 'point in time',\n",
       " '10 May 2018',\n",
       " 'has quality',\n",
       " 'verified account or profile',\n",
       " 'start time',\n",
       " '25 October 2010',\n",
       " '0 references',\n",
       " 'BNPParibas',\n",
       " 'number of subscribers',\n",
       " '62,121',\n",
       " 'Twitter user numeric ID',\n",
       " '27955989',\n",
       " 'point in time',\n",
       " '10 May 2018',\n",
       " 'has quality',\n",
       " 'verified account or profile',\n",
       " 'start time',\n",
       " '31 March 2009',\n",
       " '0 references',\n",
       " 'mabanque_bnpp',\n",
       " 'Twitter user numeric ID',\n",
       " '74419919',\n",
       " 'has quality',\n",
       " 'verified account or profile',\n",
       " 'start time',\n",
       " '15 September 2009',\n",
       " 'point in time',\n",
       " '31 May 2021',\n",
       " '0 references']"
      ]
     },
     "execution_count": 84,
     "metadata": {},
     "output_type": "execute_result"
    }
   ],
   "source": [
    "BNP[4][0]"
   ]
  },
  {
   "cell_type": "code",
   "execution_count": 85,
   "id": "fc32c70e",
   "metadata": {
    "ExecuteTime": {
     "end_time": "2022-12-05T21:14:32.281208Z",
     "start_time": "2022-12-05T21:14:32.272236Z"
    }
   },
   "outputs": [
    {
     "data": {
      "text/plain": [
       "'BNPParibas'"
      ]
     },
     "execution_count": 85,
     "metadata": {},
     "output_type": "execute_result"
    }
   ],
   "source": [
    "twitter_rac = BNP[4][0][-22]\n",
    "twitter_rac"
   ]
  },
  {
   "cell_type": "code",
   "execution_count": 86,
   "id": "ff564435",
   "metadata": {
    "ExecuteTime": {
     "end_time": "2022-12-05T21:14:33.743427Z",
     "start_time": "2022-12-05T21:14:33.734171Z"
    }
   },
   "outputs": [],
   "source": [
    "social_media = [\"https://twitter.com/\"+twitter_rac.lower()]"
   ]
  },
  {
   "cell_type": "code",
   "execution_count": 87,
   "id": "557eee2e",
   "metadata": {
    "ExecuteTime": {
     "end_time": "2022-12-05T21:14:35.103317Z",
     "start_time": "2022-12-05T21:14:35.094015Z"
    }
   },
   "outputs": [
    {
     "data": {
      "text/plain": [
       "'bnp-paribas'"
      ]
     },
     "execution_count": 87,
     "metadata": {},
     "output_type": "execute_result"
    }
   ],
   "source": [
    "BNP[4][1][1]"
   ]
  },
  {
   "cell_type": "code",
   "execution_count": 88,
   "id": "93877ebd",
   "metadata": {
    "ExecuteTime": {
     "end_time": "2022-12-05T21:14:37.778535Z",
     "start_time": "2022-12-05T21:14:37.762872Z"
    }
   },
   "outputs": [],
   "source": [
    "social_media.append(\"https://www.linkedin.com/company/\"+BNP[4][1][1])"
   ]
  },
  {
   "cell_type": "code",
   "execution_count": 89,
   "id": "b795f8bd",
   "metadata": {
    "ExecuteTime": {
     "end_time": "2022-12-05T21:14:39.814524Z",
     "start_time": "2022-12-05T21:14:39.802511Z"
    }
   },
   "outputs": [
    {
     "data": {
      "text/plain": [
       "'bnpparibas'"
      ]
     },
     "execution_count": 89,
     "metadata": {},
     "output_type": "execute_result"
    }
   ],
   "source": [
    "BNP[4][2][1]"
   ]
  },
  {
   "cell_type": "code",
   "execution_count": 90,
   "id": "06dd8565",
   "metadata": {
    "ExecuteTime": {
     "end_time": "2022-12-05T21:14:41.314662Z",
     "start_time": "2022-12-05T21:14:41.298679Z"
    }
   },
   "outputs": [],
   "source": [
    "social_media.append(\"https://www.instagram.com/\"+BNP[4][2][1])"
   ]
  },
  {
   "cell_type": "code",
   "execution_count": 91,
   "id": "95665998",
   "metadata": {
    "ExecuteTime": {
     "end_time": "2022-12-05T21:14:43.483381Z",
     "start_time": "2022-12-05T21:14:43.474418Z"
    }
   },
   "outputs": [
    {
     "data": {
      "text/plain": [
       "'mabanque.bnpparibas'"
      ]
     },
     "execution_count": 91,
     "metadata": {},
     "output_type": "execute_result"
    }
   ],
   "source": [
    "BNP[4][3][1]"
   ]
  },
  {
   "cell_type": "code",
   "execution_count": 92,
   "id": "9bba9d5f",
   "metadata": {
    "ExecuteTime": {
     "end_time": "2022-12-05T21:14:45.521328Z",
     "start_time": "2022-12-05T21:14:45.502393Z"
    }
   },
   "outputs": [],
   "source": [
    "social_media.append(\"https://www.facebook.com/\"+BNP[4][3][1])"
   ]
  },
  {
   "cell_type": "code",
   "execution_count": 93,
   "id": "8472bebf",
   "metadata": {
    "ExecuteTime": {
     "end_time": "2022-12-05T21:14:46.846365Z",
     "start_time": "2022-12-05T21:14:46.841085Z"
    }
   },
   "outputs": [
    {
     "data": {
      "text/plain": [
       "['https://twitter.com/bnpparibas',\n",
       " 'https://www.linkedin.com/company/bnp-paribas',\n",
       " 'https://www.instagram.com/bnpparibas',\n",
       " 'https://www.facebook.com/mabanque.bnpparibas']"
      ]
     },
     "execution_count": 93,
     "metadata": {},
     "output_type": "execute_result"
    }
   ],
   "source": [
    "social_media"
   ]
  },
  {
   "cell_type": "markdown",
   "id": "ce9e890b",
   "metadata": {},
   "source": [
    "### BNP entry"
   ]
  },
  {
   "cell_type": "code",
   "execution_count": 94,
   "id": "b6f197a4",
   "metadata": {
    "ExecuteTime": {
     "end_time": "2022-12-05T21:14:49.356440Z",
     "start_time": "2022-12-05T21:14:49.350465Z"
    }
   },
   "outputs": [],
   "source": [
    "BNP_entry = [\"BNP Parisbas\", address, website, revenue, n_emp,social_media]"
   ]
  },
  {
   "cell_type": "markdown",
   "id": "b0667422",
   "metadata": {},
   "source": [
    "## HSBC"
   ]
  },
  {
   "cell_type": "code",
   "execution_count": 95,
   "id": "7aceb0ae",
   "metadata": {
    "ExecuteTime": {
     "end_time": "2022-12-05T21:14:51.138259Z",
     "start_time": "2022-12-05T21:14:51.131282Z"
    }
   },
   "outputs": [],
   "source": [
    "hsbc = wikidata_scrap[\"HSBC\"]"
   ]
  },
  {
   "cell_type": "markdown",
   "id": "c310434d",
   "metadata": {
    "ExecuteTime": {
     "end_time": "2022-11-26T19:59:07.958553Z",
     "start_time": "2022-11-26T19:59:07.949599Z"
    }
   },
   "source": [
    "### address"
   ]
  },
  {
   "cell_type": "code",
   "execution_count": 96,
   "id": "1f1cb9e2",
   "metadata": {
    "ExecuteTime": {
     "end_time": "2022-12-05T21:14:54.160481Z",
     "start_time": "2022-12-05T21:14:54.141480Z"
    }
   },
   "outputs": [
    {
     "data": {
      "text/plain": [
       "'8 Canada Square,London'"
      ]
     },
     "execution_count": 96,
     "metadata": {},
     "output_type": "execute_result"
    }
   ],
   "source": [
    "address = hsbc[0][1]+\",\"+hsbc[0][3]\n",
    "address"
   ]
  },
  {
   "cell_type": "markdown",
   "id": "57ac35ba",
   "metadata": {},
   "source": [
    "### website"
   ]
  },
  {
   "cell_type": "code",
   "execution_count": 97,
   "id": "d1949d74",
   "metadata": {
    "ExecuteTime": {
     "end_time": "2022-12-05T21:14:56.036616Z",
     "start_time": "2022-12-05T21:14:56.028618Z"
    }
   },
   "outputs": [
    {
     "data": {
      "text/plain": [
       "'https://www.hsbc.com/'"
      ]
     },
     "execution_count": 97,
     "metadata": {},
     "output_type": "execute_result"
    }
   ],
   "source": [
    "website = hsbc[1][1]\n",
    "website"
   ]
  },
  {
   "cell_type": "markdown",
   "id": "8204359f",
   "metadata": {},
   "source": [
    "### Revenue"
   ]
  },
  {
   "cell_type": "code",
   "execution_count": 99,
   "id": "a3170cbc",
   "metadata": {
    "ExecuteTime": {
     "end_time": "2022-12-05T21:15:37.911836Z",
     "start_time": "2022-12-05T21:15:37.892859Z"
    }
   },
   "outputs": [
    {
     "data": {
      "text/plain": [
       "['total revenue',\n",
       " '59,836,000,000 United States dollar',\n",
       " 'point in time',\n",
       " '2016',\n",
       " '1 reference',\n",
       " '71,092,000,000 United States dollar',\n",
       " 'point in time',\n",
       " '2015',\n",
       " '1 reference',\n",
       " '74,593,000,000 United States dollar',\n",
       " 'point in time',\n",
       " '2014',\n",
       " '1 reference',\n",
       " '78,337,000,000 United States dollar',\n",
       " 'point in time',\n",
       " '2013',\n",
       " '1 reference',\n",
       " '82,545,000,000 United States dollar',\n",
       " 'point in time',\n",
       " '2012',\n",
       " '1 reference',\n",
       " '51,445,000,000 United States dollar',\n",
       " 'point in time',\n",
       " '2017',\n",
       " '2 references']"
      ]
     },
     "execution_count": 99,
     "metadata": {},
     "output_type": "execute_result"
    }
   ],
   "source": [
    "hsbc[2]"
   ]
  },
  {
   "cell_type": "code",
   "execution_count": 101,
   "id": "e270e1ed",
   "metadata": {
    "ExecuteTime": {
     "end_time": "2022-12-05T21:16:23.809911Z",
     "start_time": "2022-12-05T21:16:23.793966Z"
    }
   },
   "outputs": [
    {
     "data": {
      "text/plain": [
       "'51445000000'"
      ]
     },
     "execution_count": 101,
     "metadata": {},
     "output_type": "execute_result"
    }
   ],
   "source": [
    "revenue = hsbc[2][-4].split(\" \")[0].replace(\",\",\"\")\n",
    "revenue"
   ]
  },
  {
   "cell_type": "raw",
   "id": "4a139ced",
   "metadata": {},
   "source": []
  },
  {
   "cell_type": "code",
   "execution_count": 102,
   "id": "f7ba9f84",
   "metadata": {
    "ExecuteTime": {
     "end_time": "2022-12-05T21:16:34.138503Z",
     "start_time": "2022-12-05T21:16:34.121502Z"
    }
   },
   "outputs": [
    {
     "data": {
      "text/plain": [
       "'8 Canada Square,London'"
      ]
     },
     "execution_count": 102,
     "metadata": {},
     "output_type": "execute_result"
    }
   ],
   "source": [
    "address\n"
   ]
  },
  {
   "cell_type": "markdown",
   "id": "2a2acaac",
   "metadata": {},
   "source": [
    "### number of employee"
   ]
  },
  {
   "cell_type": "code",
   "execution_count": 103,
   "id": "5f7bf209",
   "metadata": {
    "ExecuteTime": {
     "end_time": "2022-12-05T21:16:38.486125Z",
     "start_time": "2022-12-05T21:16:38.467235Z"
    }
   },
   "outputs": [
    {
     "data": {
      "text/plain": [
       "['employees',\n",
       " '241,000',\n",
       " 'point in time',\n",
       " '31 December 2016',\n",
       " '1 reference',\n",
       " '255,000',\n",
       " 'point in time',\n",
       " '31 December 2015',\n",
       " '1 reference',\n",
       " '228,000',\n",
       " 'point in time',\n",
       " '2017',\n",
       " '2 references']"
      ]
     },
     "execution_count": 103,
     "metadata": {},
     "output_type": "execute_result"
    }
   ],
   "source": [
    "hsbc[3]"
   ]
  },
  {
   "cell_type": "code",
   "execution_count": 104,
   "id": "9daebdaf",
   "metadata": {
    "ExecuteTime": {
     "end_time": "2022-12-05T21:16:41.139452Z",
     "start_time": "2022-12-05T21:16:41.134068Z"
    }
   },
   "outputs": [
    {
     "data": {
      "text/plain": [
       "'228000'"
      ]
     },
     "execution_count": 104,
     "metadata": {},
     "output_type": "execute_result"
    }
   ],
   "source": [
    "n_emp = hsbc[3][-4].replace(\",\",\"\")\n",
    "n_emp"
   ]
  },
  {
   "cell_type": "markdown",
   "id": "41d9ca5c",
   "metadata": {},
   "source": [
    "### Social media"
   ]
  },
  {
   "cell_type": "code",
   "execution_count": 105,
   "id": "139cbb36",
   "metadata": {
    "ExecuteTime": {
     "end_time": "2022-12-05T21:16:44.672287Z",
     "start_time": "2022-12-05T21:16:44.657279Z"
    }
   },
   "outputs": [
    {
     "data": {
      "text/plain": [
       "'hsbc'"
      ]
     },
     "execution_count": 105,
     "metadata": {},
     "output_type": "execute_result"
    }
   ],
   "source": [
    "twitter_rac = hsbc[4][0][1].lower()\n",
    "twitter_rac"
   ]
  },
  {
   "cell_type": "code",
   "execution_count": 106,
   "id": "845da6aa",
   "metadata": {
    "ExecuteTime": {
     "end_time": "2022-12-05T21:16:46.142847Z",
     "start_time": "2022-12-05T21:16:46.136871Z"
    }
   },
   "outputs": [],
   "source": [
    "social_media = [\"https://twitter.com/\"+twitter_rac.lower()]"
   ]
  },
  {
   "cell_type": "code",
   "execution_count": 107,
   "id": "7d50be0f",
   "metadata": {
    "ExecuteTime": {
     "end_time": "2022-12-05T21:16:48.648973Z",
     "start_time": "2022-12-05T21:16:48.641996Z"
    }
   },
   "outputs": [],
   "source": [
    "social_media.append(\"https://www.linkedin.com/company/\"+hsbc[4][1][1])"
   ]
  },
  {
   "cell_type": "code",
   "execution_count": 108,
   "id": "71808f04",
   "metadata": {
    "ExecuteTime": {
     "end_time": "2022-12-05T21:16:50.230913Z",
     "start_time": "2022-12-05T21:16:50.224937Z"
    }
   },
   "outputs": [],
   "source": [
    "social_media.append(\"https://www.instagram.com/\"+hsbc[4][2][1])"
   ]
  },
  {
   "cell_type": "code",
   "execution_count": 109,
   "id": "a4f119e8",
   "metadata": {
    "ExecuteTime": {
     "end_time": "2022-12-05T21:16:51.685091Z",
     "start_time": "2022-12-05T21:16:51.677060Z"
    }
   },
   "outputs": [],
   "source": [
    "social_media.append(\"https://www.facebook.com/\"+hsbc[4][3][1].lower())"
   ]
  },
  {
   "cell_type": "code",
   "execution_count": 110,
   "id": "d19b71fd",
   "metadata": {
    "ExecuteTime": {
     "end_time": "2022-12-05T21:16:53.444100Z",
     "start_time": "2022-12-05T21:16:53.429111Z"
    }
   },
   "outputs": [
    {
     "data": {
      "text/plain": [
       "['https://twitter.com/hsbc',\n",
       " 'https://www.linkedin.com/company/hsbc',\n",
       " 'https://www.instagram.com/hsbc',\n",
       " 'https://www.facebook.com/hsbc']"
      ]
     },
     "execution_count": 110,
     "metadata": {},
     "output_type": "execute_result"
    }
   ],
   "source": [
    "social_media"
   ]
  },
  {
   "cell_type": "markdown",
   "id": "7042bfc4",
   "metadata": {},
   "source": [
    "### HSBC Entry"
   ]
  },
  {
   "cell_type": "code",
   "execution_count": 111,
   "id": "6b01781f",
   "metadata": {
    "ExecuteTime": {
     "end_time": "2022-12-05T21:16:55.522077Z",
     "start_time": "2022-12-05T21:16:55.507184Z"
    }
   },
   "outputs": [],
   "source": [
    "hsbc_entry = [\"HSBC\", address, website, revenue, n_emp,social_media]"
   ]
  },
  {
   "cell_type": "code",
   "execution_count": 112,
   "id": "98aee05b",
   "metadata": {
    "ExecuteTime": {
     "end_time": "2022-12-05T21:16:56.880515Z",
     "start_time": "2022-12-05T21:16:56.865563Z"
    }
   },
   "outputs": [
    {
     "data": {
      "text/plain": [
       "['HSBC',\n",
       " '8 Canada Square,London',\n",
       " 'https://www.hsbc.com/',\n",
       " '51445000000',\n",
       " '228000',\n",
       " ['https://twitter.com/hsbc',\n",
       "  'https://www.linkedin.com/company/hsbc',\n",
       "  'https://www.instagram.com/hsbc',\n",
       "  'https://www.facebook.com/hsbc']]"
      ]
     },
     "execution_count": 112,
     "metadata": {},
     "output_type": "execute_result"
    }
   ],
   "source": [
    "hsbc_entry"
   ]
  },
  {
   "cell_type": "markdown",
   "id": "1ea38ee6",
   "metadata": {},
   "source": [
    "## Dataiku"
   ]
  },
  {
   "cell_type": "code",
   "execution_count": 113,
   "id": "b65b44b4",
   "metadata": {
    "ExecuteTime": {
     "end_time": "2022-12-05T21:17:00.082270Z",
     "start_time": "2022-12-05T21:17:00.063331Z"
    }
   },
   "outputs": [],
   "source": [
    "dataiku = wikidata_scrap[\"Dataiku\"]"
   ]
  },
  {
   "cell_type": "code",
   "execution_count": 114,
   "id": "ce6719a7",
   "metadata": {
    "ExecuteTime": {
     "end_time": "2022-12-05T21:17:01.334877Z",
     "start_time": "2022-12-05T21:17:01.317935Z"
    }
   },
   "outputs": [
    {
     "data": {
      "text/plain": [
       "[['headquarters location', 'Paris', '0 references'],\n",
       " ['official website', 'http://www.dataiku.com/', '1 reference'],\n",
       " nan,\n",
       " nan,\n",
       " [['Twitter username',\n",
       "   'dataiku',\n",
       "   'number of subscribers',\n",
       "   '19,408',\n",
       "   'Twitter user numeric ID',\n",
       "   '816825631',\n",
       "   'has quality',\n",
       "   'verified account or profile',\n",
       "   'start time',\n",
       "   '11 September 2012',\n",
       "   'point in time',\n",
       "   '19 April 2020',\n",
       "   '1 reference'],\n",
       "  nan,\n",
       "  nan,\n",
       "  nan]]"
      ]
     },
     "execution_count": 114,
     "metadata": {},
     "output_type": "execute_result"
    }
   ],
   "source": [
    "dataiku"
   ]
  },
  {
   "cell_type": "code",
   "execution_count": 115,
   "id": "50702f3a",
   "metadata": {
    "ExecuteTime": {
     "end_time": "2022-12-05T21:17:12.506516Z",
     "start_time": "2022-12-05T21:17:03.367975Z"
    }
   },
   "outputs": [],
   "source": [
    "driver3 = uc.Chrome()\n",
    "driver3.get('https://fr.wikipedia.org/wiki/Dataiku') \n",
    "sleep(5) #to be sure the page is load"
   ]
  },
  {
   "cell_type": "markdown",
   "id": "ca166afe",
   "metadata": {
    "ExecuteTime": {
     "end_time": "2022-11-26T20:12:29.143564Z",
     "start_time": "2022-11-26T20:12:29.133546Z"
    }
   },
   "source": [
    "### address"
   ]
  },
  {
   "cell_type": "code",
   "execution_count": 116,
   "id": "84b3d17d",
   "metadata": {
    "ExecuteTime": {
     "end_time": "2022-12-05T21:17:12.536888Z",
     "start_time": "2022-12-05T21:17:12.509952Z"
    }
   },
   "outputs": [],
   "source": [
    "address = driver3.find_element(By.XPATH,'//*[@id=\"mw-content-text\"]/div[1]/table/tbody/tr[9]/td/a')"
   ]
  },
  {
   "cell_type": "code",
   "execution_count": 117,
   "id": "d5795097",
   "metadata": {
    "ExecuteTime": {
     "end_time": "2022-12-05T21:17:14.114767Z",
     "start_time": "2022-12-05T21:17:14.083874Z"
    }
   },
   "outputs": [
    {
     "data": {
      "text/plain": [
       "'New York'"
      ]
     },
     "execution_count": 117,
     "metadata": {},
     "output_type": "execute_result"
    }
   ],
   "source": [
    "address = address.text\n",
    "address"
   ]
  },
  {
   "cell_type": "markdown",
   "id": "353ce8a2",
   "metadata": {},
   "source": [
    "### website"
   ]
  },
  {
   "cell_type": "code",
   "execution_count": 118,
   "id": "2c13209d",
   "metadata": {
    "ExecuteTime": {
     "end_time": "2022-12-05T21:17:16.684359Z",
     "start_time": "2022-12-05T21:17:16.677383Z"
    }
   },
   "outputs": [],
   "source": [
    "website = dataiku[1][1]"
   ]
  },
  {
   "cell_type": "code",
   "execution_count": 119,
   "id": "c79c0546",
   "metadata": {
    "ExecuteTime": {
     "end_time": "2022-12-05T21:17:18.288042Z",
     "start_time": "2022-12-05T21:17:18.274332Z"
    }
   },
   "outputs": [
    {
     "data": {
      "text/plain": [
       "'http://www.dataiku.com/'"
      ]
     },
     "execution_count": 119,
     "metadata": {},
     "output_type": "execute_result"
    }
   ],
   "source": [
    "website"
   ]
  },
  {
   "cell_type": "markdown",
   "id": "37880830",
   "metadata": {},
   "source": [
    "### number of employee"
   ]
  },
  {
   "cell_type": "code",
   "execution_count": 120,
   "id": "694c5337",
   "metadata": {
    "ExecuteTime": {
     "end_time": "2022-12-05T21:17:20.381912Z",
     "start_time": "2022-12-05T21:17:20.342650Z"
    }
   },
   "outputs": [
    {
     "data": {
      "text/plain": [
       "'1200+'"
      ]
     },
     "execution_count": 120,
     "metadata": {},
     "output_type": "execute_result"
    }
   ],
   "source": [
    "n_empl =driver3.find_element(By.XPATH, '//*[@id=\"mw-content-text\"]/div[1]/table/tbody/tr[16]/td')\n",
    "n_empl.text"
   ]
  },
  {
   "cell_type": "code",
   "execution_count": 121,
   "id": "70c2b3e4",
   "metadata": {
    "ExecuteTime": {
     "end_time": "2022-12-05T21:17:22.145607Z",
     "start_time": "2022-12-05T21:17:22.121690Z"
    }
   },
   "outputs": [],
   "source": [
    "n_empl = n_empl.text.replace(\"+\",\"\")"
   ]
  },
  {
   "cell_type": "markdown",
   "id": "d8dac06b",
   "metadata": {
    "ExecuteTime": {
     "end_time": "2022-11-26T20:14:51.497377Z",
     "start_time": "2022-11-26T20:14:51.493376Z"
    }
   },
   "source": [
    "### Social media"
   ]
  },
  {
   "cell_type": "code",
   "execution_count": 122,
   "id": "8f7bc4af",
   "metadata": {
    "ExecuteTime": {
     "end_time": "2022-12-05T21:17:24.054259Z",
     "start_time": "2022-12-05T21:17:24.039248Z"
    }
   },
   "outputs": [],
   "source": [
    "social_media = [\"https://twitter.com/\"+dataiku[4][0][1]]"
   ]
  },
  {
   "cell_type": "code",
   "execution_count": 123,
   "id": "93723420",
   "metadata": {
    "ExecuteTime": {
     "end_time": "2022-12-05T21:17:25.545388Z",
     "start_time": "2022-12-05T21:17:25.537421Z"
    }
   },
   "outputs": [
    {
     "data": {
      "text/plain": [
       "['https://twitter.com/dataiku']"
      ]
     },
     "execution_count": 123,
     "metadata": {},
     "output_type": "execute_result"
    }
   ],
   "source": [
    "social_media"
   ]
  },
  {
   "cell_type": "markdown",
   "id": "16fefef6",
   "metadata": {},
   "source": [
    "### Dataiku entry"
   ]
  },
  {
   "cell_type": "code",
   "execution_count": 124,
   "id": "e5c589a8",
   "metadata": {
    "ExecuteTime": {
     "end_time": "2022-12-05T21:17:28.379207Z",
     "start_time": "2022-12-05T21:17:28.366270Z"
    }
   },
   "outputs": [],
   "source": [
    "dataiku_entry =[\"Dataiku\", address,website,np.nan,n_empl,social_media]"
   ]
  },
  {
   "cell_type": "code",
   "execution_count": 125,
   "id": "5f7a429a",
   "metadata": {
    "ExecuteTime": {
     "end_time": "2022-12-05T21:17:29.633636Z",
     "start_time": "2022-12-05T21:17:29.615697Z"
    }
   },
   "outputs": [
    {
     "data": {
      "text/plain": [
       "['Dataiku',\n",
       " 'New York',\n",
       " 'http://www.dataiku.com/',\n",
       " nan,\n",
       " '1200',\n",
       " ['https://twitter.com/dataiku']]"
      ]
     },
     "execution_count": 125,
     "metadata": {},
     "output_type": "execute_result"
    }
   ],
   "source": [
    "dataiku_entry"
   ]
  },
  {
   "cell_type": "markdown",
   "id": "92a08c49",
   "metadata": {},
   "source": [
    "## table"
   ]
  },
  {
   "cell_type": "code",
   "execution_count": 126,
   "id": "6241dd19",
   "metadata": {
    "ExecuteTime": {
     "end_time": "2022-12-05T21:17:31.707314Z",
     "start_time": "2022-12-05T21:17:31.695435Z"
    }
   },
   "outputs": [],
   "source": [
    "df = pd.DataFrame([microsoft_entry,salesforce_entry,bouygues_entry,BNP_entry,hsbc_entry,dataiku_entry], columns=[\"firm\",\"address\",\"website\",\"revenue\",\"N employee\",\"social media\"])"
   ]
  },
  {
   "cell_type": "code",
   "execution_count": 127,
   "id": "0c6f7ec6",
   "metadata": {
    "ExecuteTime": {
     "end_time": "2022-12-05T21:17:33.158052Z",
     "start_time": "2022-12-05T21:17:33.125163Z"
    }
   },
   "outputs": [
    {
     "data": {
      "text/html": [
       "<div>\n",
       "<style scoped>\n",
       "    .dataframe tbody tr th:only-of-type {\n",
       "        vertical-align: middle;\n",
       "    }\n",
       "\n",
       "    .dataframe tbody tr th {\n",
       "        vertical-align: top;\n",
       "    }\n",
       "\n",
       "    .dataframe thead th {\n",
       "        text-align: right;\n",
       "    }\n",
       "</style>\n",
       "<table border=\"1\" class=\"dataframe\">\n",
       "  <thead>\n",
       "    <tr style=\"text-align: right;\">\n",
       "      <th></th>\n",
       "      <th>firm</th>\n",
       "      <th>address</th>\n",
       "      <th>website</th>\n",
       "      <th>revenue</th>\n",
       "      <th>N employee</th>\n",
       "      <th>social media</th>\n",
       "    </tr>\n",
       "  </thead>\n",
       "  <tbody>\n",
       "    <tr>\n",
       "      <th>0</th>\n",
       "      <td>Microsoft</td>\n",
       "      <td>One Microsoft Way ,Redmond,98052,United States...</td>\n",
       "      <td>https://www.microsoft.com/</td>\n",
       "      <td>198270000000</td>\n",
       "      <td>181000</td>\n",
       "      <td>[https://twitter.com/microsoft, https://www.li...</td>\n",
       "    </tr>\n",
       "    <tr>\n",
       "      <th>1</th>\n",
       "      <td>Salesforce</td>\n",
       "      <td>415 Mission Street, San Francisco,CA</td>\n",
       "      <td>https://www.salesforce.com</td>\n",
       "      <td>21250000000.0</td>\n",
       "      <td>35000</td>\n",
       "      <td>[https://twitter.com/salesforce, https://www.l...</td>\n",
       "    </tr>\n",
       "    <tr>\n",
       "      <th>2</th>\n",
       "      <td>Bouygues Construction</td>\n",
       "      <td>Challenger , Guyancourt ,Saint-Quentin-en-Yvel...</td>\n",
       "      <td>bouygues-construction.com</td>\n",
       "      <td>12300000000.0</td>\n",
       "      <td>52800</td>\n",
       "      <td>None</td>\n",
       "    </tr>\n",
       "    <tr>\n",
       "      <th>3</th>\n",
       "      <td>BNP Parisbas</td>\n",
       "      <td>3 rue d'Antin ,Paris,75002</td>\n",
       "      <td>https://www.bnpparibas.fr/</td>\n",
       "      <td>44385600000.0</td>\n",
       "      <td>192000</td>\n",
       "      <td>[https://twitter.com/bnpparibas, https://www.l...</td>\n",
       "    </tr>\n",
       "    <tr>\n",
       "      <th>4</th>\n",
       "      <td>HSBC</td>\n",
       "      <td>8 Canada Square,London</td>\n",
       "      <td>https://www.hsbc.com/</td>\n",
       "      <td>51445000000</td>\n",
       "      <td>228000</td>\n",
       "      <td>[https://twitter.com/hsbc, https://www.linkedi...</td>\n",
       "    </tr>\n",
       "    <tr>\n",
       "      <th>5</th>\n",
       "      <td>Dataiku</td>\n",
       "      <td>New York</td>\n",
       "      <td>http://www.dataiku.com/</td>\n",
       "      <td>NaN</td>\n",
       "      <td>1200</td>\n",
       "      <td>[https://twitter.com/dataiku]</td>\n",
       "    </tr>\n",
       "  </tbody>\n",
       "</table>\n",
       "</div>"
      ],
      "text/plain": [
       "                    firm                                            address  \\\n",
       "0              Microsoft  One Microsoft Way ,Redmond,98052,United States...   \n",
       "1             Salesforce               415 Mission Street, San Francisco,CA   \n",
       "2  Bouygues Construction  Challenger , Guyancourt ,Saint-Quentin-en-Yvel...   \n",
       "3           BNP Parisbas                         3 rue d'Antin ,Paris,75002   \n",
       "4                   HSBC                             8 Canada Square,London   \n",
       "5                Dataiku                                           New York   \n",
       "\n",
       "                      website        revenue N employee  \\\n",
       "0  https://www.microsoft.com/   198270000000     181000   \n",
       "1  https://www.salesforce.com  21250000000.0      35000   \n",
       "2   bouygues-construction.com  12300000000.0      52800   \n",
       "3  https://www.bnpparibas.fr/  44385600000.0     192000   \n",
       "4       https://www.hsbc.com/    51445000000     228000   \n",
       "5     http://www.dataiku.com/            NaN       1200   \n",
       "\n",
       "                                        social media  \n",
       "0  [https://twitter.com/microsoft, https://www.li...  \n",
       "1  [https://twitter.com/salesforce, https://www.l...  \n",
       "2                                               None  \n",
       "3  [https://twitter.com/bnpparibas, https://www.l...  \n",
       "4  [https://twitter.com/hsbc, https://www.linkedi...  \n",
       "5                      [https://twitter.com/dataiku]  "
      ]
     },
     "execution_count": 127,
     "metadata": {},
     "output_type": "execute_result"
    }
   ],
   "source": [
    "df"
   ]
  },
  {
   "cell_type": "code",
   "execution_count": 128,
   "id": "af43b478",
   "metadata": {
    "ExecuteTime": {
     "end_time": "2022-12-05T21:17:35.462992Z",
     "start_time": "2022-12-05T21:17:35.444059Z"
    }
   },
   "outputs": [],
   "source": [
    "df.to_csv(\"delpha_scrapping_mcoutarel.csv\",index=False)"
   ]
  }
 ],
 "metadata": {
  "hide_input": false,
  "kernelspec": {
   "display_name": "Python 3 (ipykernel)",
   "language": "python",
   "name": "python3"
  },
  "language_info": {
   "codemirror_mode": {
    "name": "ipython",
    "version": 3
   },
   "file_extension": ".py",
   "mimetype": "text/x-python",
   "name": "python",
   "nbconvert_exporter": "python",
   "pygments_lexer": "ipython3",
   "version": "3.8.5"
  },
  "toc": {
   "base_numbering": 1,
   "nav_menu": {},
   "number_sections": true,
   "sideBar": true,
   "skip_h1_title": false,
   "title_cell": "Table of Contents",
   "title_sidebar": "Contents",
   "toc_cell": false,
   "toc_position": {
    "height": "calc(100% - 180px)",
    "left": "10px",
    "top": "150px",
    "width": "426.667px"
   },
   "toc_section_display": true,
   "toc_window_display": true
  }
 },
 "nbformat": 4,
 "nbformat_minor": 5
}
