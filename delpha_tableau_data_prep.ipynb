{
 "cells": [
  {
   "cell_type": "code",
   "execution_count": null,
   "id": "bc8fab7a",
   "metadata": {},
   "outputs": [],
   "source": []
  },
  {
   "cell_type": "code",
   "execution_count": 1,
   "id": "fb146977",
   "metadata": {
    "ExecuteTime": {
     "end_time": "2022-12-05T21:18:04.284922Z",
     "start_time": "2022-12-05T21:18:03.698727Z"
    }
   },
   "outputs": [],
   "source": [
    "import glob\n",
    "import pandas as pd\n",
    "import numpy as np"
   ]
  },
  {
   "cell_type": "code",
   "execution_count": 4,
   "id": "3ea2ddae",
   "metadata": {
    "ExecuteTime": {
     "end_time": "2022-12-05T21:18:42.714943Z",
     "start_time": "2022-12-05T21:18:42.697002Z"
    }
   },
   "outputs": [
    {
     "data": {
      "text/plain": [
       "['delpha_for_tableau.csv', 'delpha_scrapping_mcoutarel.csv']"
      ]
     },
     "execution_count": 4,
     "metadata": {},
     "output_type": "execute_result"
    }
   ],
   "source": [
    "glob.glob(\"*.csv\")"
   ]
  },
  {
   "cell_type": "code",
   "execution_count": 5,
   "id": "fc9a35f3",
   "metadata": {
    "ExecuteTime": {
     "end_time": "2022-12-05T21:18:48.828627Z",
     "start_time": "2022-12-05T21:18:48.819659Z"
    }
   },
   "outputs": [],
   "source": [
    "df = pd.read_csv(glob.glob(\"*.csv\")[1])"
   ]
  },
  {
   "cell_type": "code",
   "execution_count": 6,
   "id": "f4ffdf22",
   "metadata": {
    "ExecuteTime": {
     "end_time": "2022-12-05T21:18:50.279201Z",
     "start_time": "2022-12-05T21:18:50.265247Z"
    }
   },
   "outputs": [
    {
     "data": {
      "text/html": [
       "<div>\n",
       "<style scoped>\n",
       "    .dataframe tbody tr th:only-of-type {\n",
       "        vertical-align: middle;\n",
       "    }\n",
       "\n",
       "    .dataframe tbody tr th {\n",
       "        vertical-align: top;\n",
       "    }\n",
       "\n",
       "    .dataframe thead th {\n",
       "        text-align: right;\n",
       "    }\n",
       "</style>\n",
       "<table border=\"1\" class=\"dataframe\">\n",
       "  <thead>\n",
       "    <tr style=\"text-align: right;\">\n",
       "      <th></th>\n",
       "      <th>firm</th>\n",
       "      <th>address</th>\n",
       "      <th>website</th>\n",
       "      <th>revenue</th>\n",
       "      <th>N employee</th>\n",
       "      <th>social media</th>\n",
       "    </tr>\n",
       "  </thead>\n",
       "  <tbody>\n",
       "    <tr>\n",
       "      <th>0</th>\n",
       "      <td>Microsoft</td>\n",
       "      <td>One Microsoft Way ,Redmond,98052,United States...</td>\n",
       "      <td>https://www.microsoft.com/</td>\n",
       "      <td>1.982700e+11</td>\n",
       "      <td>181000</td>\n",
       "      <td>['https://twitter.com/microsoft', 'https://www...</td>\n",
       "    </tr>\n",
       "    <tr>\n",
       "      <th>1</th>\n",
       "      <td>Salesforce</td>\n",
       "      <td>415 Mission Street, San Francisco,CA</td>\n",
       "      <td>https://www.salesforce.com</td>\n",
       "      <td>2.125000e+10</td>\n",
       "      <td>35000</td>\n",
       "      <td>['https://twitter.com/salesforce', 'https://ww...</td>\n",
       "    </tr>\n",
       "    <tr>\n",
       "      <th>2</th>\n",
       "      <td>Bouygues Construction</td>\n",
       "      <td>Challenger , Guyancourt ,Saint-Quentin-en-Yvel...</td>\n",
       "      <td>bouygues-construction.com</td>\n",
       "      <td>1.230000e+10</td>\n",
       "      <td>52800</td>\n",
       "      <td>NaN</td>\n",
       "    </tr>\n",
       "    <tr>\n",
       "      <th>3</th>\n",
       "      <td>BNP Parisbas</td>\n",
       "      <td>3 rue d'Antin ,Paris,75002</td>\n",
       "      <td>https://www.bnpparibas.fr/</td>\n",
       "      <td>4.438560e+10</td>\n",
       "      <td>192000</td>\n",
       "      <td>['https://twitter.com/bnpparibas', 'https://ww...</td>\n",
       "    </tr>\n",
       "    <tr>\n",
       "      <th>4</th>\n",
       "      <td>HSBC</td>\n",
       "      <td>8 Canada Square,London</td>\n",
       "      <td>https://www.hsbc.com/</td>\n",
       "      <td>5.144500e+10</td>\n",
       "      <td>228000</td>\n",
       "      <td>['https://twitter.com/hsbc', 'https://www.link...</td>\n",
       "    </tr>\n",
       "    <tr>\n",
       "      <th>5</th>\n",
       "      <td>Dataiku</td>\n",
       "      <td>New York</td>\n",
       "      <td>http://www.dataiku.com/</td>\n",
       "      <td>NaN</td>\n",
       "      <td>1200</td>\n",
       "      <td>['https://twitter.com/dataiku']</td>\n",
       "    </tr>\n",
       "  </tbody>\n",
       "</table>\n",
       "</div>"
      ],
      "text/plain": [
       "                    firm                                            address  \\\n",
       "0              Microsoft  One Microsoft Way ,Redmond,98052,United States...   \n",
       "1             Salesforce               415 Mission Street, San Francisco,CA   \n",
       "2  Bouygues Construction  Challenger , Guyancourt ,Saint-Quentin-en-Yvel...   \n",
       "3           BNP Parisbas                         3 rue d'Antin ,Paris,75002   \n",
       "4                   HSBC                             8 Canada Square,London   \n",
       "5                Dataiku                                           New York   \n",
       "\n",
       "                      website       revenue  N employee  \\\n",
       "0  https://www.microsoft.com/  1.982700e+11      181000   \n",
       "1  https://www.salesforce.com  2.125000e+10       35000   \n",
       "2   bouygues-construction.com  1.230000e+10       52800   \n",
       "3  https://www.bnpparibas.fr/  4.438560e+10      192000   \n",
       "4       https://www.hsbc.com/  5.144500e+10      228000   \n",
       "5     http://www.dataiku.com/           NaN        1200   \n",
       "\n",
       "                                        social media  \n",
       "0  ['https://twitter.com/microsoft', 'https://www...  \n",
       "1  ['https://twitter.com/salesforce', 'https://ww...  \n",
       "2                                                NaN  \n",
       "3  ['https://twitter.com/bnpparibas', 'https://ww...  \n",
       "4  ['https://twitter.com/hsbc', 'https://www.link...  \n",
       "5                    ['https://twitter.com/dataiku']  "
      ]
     },
     "execution_count": 6,
     "metadata": {},
     "output_type": "execute_result"
    }
   ],
   "source": [
    "df"
   ]
  },
  {
   "cell_type": "markdown",
   "id": "2bdb568d",
   "metadata": {},
   "source": [
    "# get city from address"
   ]
  },
  {
   "cell_type": "code",
   "execution_count": 7,
   "id": "b924fb3d",
   "metadata": {
    "ExecuteTime": {
     "end_time": "2022-12-05T21:18:55.846847Z",
     "start_time": "2022-12-05T21:18:55.834889Z"
    }
   },
   "outputs": [],
   "source": [
    "cities = [ address.split(',')[1] for address in df[\"address\"][:-1]]"
   ]
  },
  {
   "cell_type": "code",
   "execution_count": 8,
   "id": "1e832f6b",
   "metadata": {
    "ExecuteTime": {
     "end_time": "2022-12-05T21:18:57.439565Z",
     "start_time": "2022-12-05T21:18:57.428522Z"
    }
   },
   "outputs": [],
   "source": [
    " cities.append(\"New York\")"
   ]
  },
  {
   "cell_type": "code",
   "execution_count": 9,
   "id": "54d7fdb7",
   "metadata": {
    "ExecuteTime": {
     "end_time": "2022-12-05T21:18:59.898489Z",
     "start_time": "2022-12-05T21:18:59.890514Z"
    }
   },
   "outputs": [
    {
     "data": {
      "text/plain": [
       "['Redmond', ' San Francisco', ' Guyancourt ', 'Paris', 'London', 'New York']"
      ]
     },
     "execution_count": 9,
     "metadata": {},
     "output_type": "execute_result"
    }
   ],
   "source": [
    "cities"
   ]
  },
  {
   "cell_type": "code",
   "execution_count": 10,
   "id": "cad57936",
   "metadata": {
    "ExecuteTime": {
     "end_time": "2022-12-05T21:19:02.055044Z",
     "start_time": "2022-12-05T21:19:02.042549Z"
    }
   },
   "outputs": [],
   "source": [
    "df[\"city\"]=cities"
   ]
  },
  {
   "cell_type": "markdown",
   "id": "9d4cb170",
   "metadata": {},
   "source": [
    "# create a column per social media"
   ]
  },
  {
   "cell_type": "code",
   "execution_count": 11,
   "id": "46531c75",
   "metadata": {
    "ExecuteTime": {
     "end_time": "2022-12-05T21:19:04.985727Z",
     "start_time": "2022-12-05T21:19:04.970358Z"
    }
   },
   "outputs": [],
   "source": [
    "for i in [0,1,3,4,5]:\n",
    "    df.loc[i, \"twitter\"] = df.loc[i,\"social media\"].split(\"'\")[1]"
   ]
  },
  {
   "cell_type": "code",
   "execution_count": 12,
   "id": "de5c3539",
   "metadata": {
    "ExecuteTime": {
     "end_time": "2022-12-05T21:19:06.662709Z",
     "start_time": "2022-12-05T21:19:06.646923Z"
    }
   },
   "outputs": [
    {
     "data": {
      "text/plain": [
       "'https://www.facebook.com/microsoft'"
      ]
     },
     "execution_count": 12,
     "metadata": {},
     "output_type": "execute_result"
    }
   ],
   "source": [
    " df.loc[0,\"social media\"].split(\"'\")[7]"
   ]
  },
  {
   "cell_type": "code",
   "execution_count": 13,
   "id": "4ceaec7b",
   "metadata": {
    "ExecuteTime": {
     "end_time": "2022-12-05T21:19:08.751182Z",
     "start_time": "2022-12-05T21:19:08.738227Z"
    }
   },
   "outputs": [],
   "source": [
    "for i in [0,1,3,4]:\n",
    "    df.loc[i, \"linkedIn\"] = df.loc[i,\"social media\"].split(\"'\")[3]\n",
    "    df.loc[i, \"instagram\"] = df.loc[i,\"social media\"].split(\"'\")[5]\n",
    "    df.loc[i, \"facebook\"] = df.loc[i,\"social media\"].split(\"'\")[7]"
   ]
  },
  {
   "cell_type": "markdown",
   "id": "f55ce83e",
   "metadata": {},
   "source": [
    "# add missing value for dataiku"
   ]
  },
  {
   "cell_type": "code",
   "execution_count": 14,
   "id": "b3e69406",
   "metadata": {
    "ExecuteTime": {
     "end_time": "2022-12-05T21:19:13.185506Z",
     "start_time": "2022-12-05T21:19:13.167374Z"
    }
   },
   "outputs": [],
   "source": [
    "df.loc[5, \"revenue\"] = 150*1000000 #source google"
   ]
  },
  {
   "cell_type": "code",
   "execution_count": 15,
   "id": "bfa83bff",
   "metadata": {
    "ExecuteTime": {
     "end_time": "2022-12-05T21:19:17.448802Z",
     "start_time": "2022-12-05T21:19:17.428825Z"
    }
   },
   "outputs": [],
   "source": [
    "df.to_csv(\"delpha_for_tableau.csv\", index =False)"
   ]
  }
 ],
 "metadata": {
  "hide_input": false,
  "kernelspec": {
   "display_name": "Python 3 (ipykernel)",
   "language": "python",
   "name": "python3"
  },
  "language_info": {
   "codemirror_mode": {
    "name": "ipython",
    "version": 3
   },
   "file_extension": ".py",
   "mimetype": "text/x-python",
   "name": "python",
   "nbconvert_exporter": "python",
   "pygments_lexer": "ipython3",
   "version": "3.8.5"
  },
  "toc": {
   "base_numbering": 1,
   "nav_menu": {},
   "number_sections": true,
   "sideBar": true,
   "skip_h1_title": false,
   "title_cell": "Table of Contents",
   "title_sidebar": "Contents",
   "toc_cell": false,
   "toc_position": {},
   "toc_section_display": true,
   "toc_window_display": false
  }
 },
 "nbformat": 4,
 "nbformat_minor": 5
}
