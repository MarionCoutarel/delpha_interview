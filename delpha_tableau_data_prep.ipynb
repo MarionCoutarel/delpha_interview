{
 "cells": [
  {
   "cell_type": "code",
   "execution_count": 34,
   "id": "fb146977",
   "metadata": {
    "ExecuteTime": {
     "end_time": "2022-11-27T10:11:14.494974Z",
     "start_time": "2022-11-27T10:11:14.485008Z"
    }
   },
   "outputs": [],
   "source": [
    "import glob\n",
    "import pandas as pd\n",
    "import numpy as np"
   ]
  },
  {
   "cell_type": "code",
   "execution_count": 7,
   "id": "fc9a35f3",
   "metadata": {
    "ExecuteTime": {
     "end_time": "2022-11-27T09:56:23.534224Z",
     "start_time": "2022-11-27T09:56:23.525289Z"
    }
   },
   "outputs": [],
   "source": [
    "df = pd.read_csv(glob.glob(\"*.csv\")[0])"
   ]
  },
  {
   "cell_type": "code",
   "execution_count": 75,
   "id": "f4ffdf22",
   "metadata": {
    "ExecuteTime": {
     "end_time": "2022-11-27T10:41:10.826891Z",
     "start_time": "2022-11-27T10:41:10.814478Z"
    }
   },
   "outputs": [
    {
     "data": {
      "text/html": [
       "<div>\n",
       "<style scoped>\n",
       "    .dataframe tbody tr th:only-of-type {\n",
       "        vertical-align: middle;\n",
       "    }\n",
       "\n",
       "    .dataframe tbody tr th {\n",
       "        vertical-align: top;\n",
       "    }\n",
       "\n",
       "    .dataframe thead th {\n",
       "        text-align: right;\n",
       "    }\n",
       "</style>\n",
       "<table border=\"1\" class=\"dataframe\">\n",
       "  <thead>\n",
       "    <tr style=\"text-align: right;\">\n",
       "      <th></th>\n",
       "      <th>firm</th>\n",
       "      <th>address</th>\n",
       "      <th>website</th>\n",
       "      <th>revenue</th>\n",
       "      <th>N employee</th>\n",
       "      <th>social media</th>\n",
       "      <th>city</th>\n",
       "      <th>twitter</th>\n",
       "      <th>linkedIn</th>\n",
       "      <th>instagram</th>\n",
       "      <th>facebook</th>\n",
       "    </tr>\n",
       "  </thead>\n",
       "  <tbody>\n",
       "    <tr>\n",
       "      <th>0</th>\n",
       "      <td>Microsoft</td>\n",
       "      <td>One Microsoft Way ,Redmond,98052,United States...</td>\n",
       "      <td>https://www.microsoft.com/</td>\n",
       "      <td>1.982700e+11</td>\n",
       "      <td>181000</td>\n",
       "      <td>['https://twitter.com/microsoft', 'https://www...</td>\n",
       "      <td>Redmond</td>\n",
       "      <td>https://twitter.com/microsoft</td>\n",
       "      <td>https://www.linkedin.com/company/microsoft</td>\n",
       "      <td>https://www.instagram.com/microsoft</td>\n",
       "      <td>https://www.facebook.com/microsoft</td>\n",
       "    </tr>\n",
       "    <tr>\n",
       "      <th>1</th>\n",
       "      <td>Salesforce</td>\n",
       "      <td>415 Mission Street, San Francisco,CA</td>\n",
       "      <td>https://www.salesforce.com</td>\n",
       "      <td>2.125000e+10</td>\n",
       "      <td>35000</td>\n",
       "      <td>['https://twitter.com/salesforce', 'https://ww...</td>\n",
       "      <td>San Francisco</td>\n",
       "      <td>https://twitter.com/salesforce</td>\n",
       "      <td>https://www.linkedin.com/company/salesforce</td>\n",
       "      <td>https://www.instagram.com/salesforce</td>\n",
       "      <td>https://www.facebook.com/5634829153</td>\n",
       "    </tr>\n",
       "    <tr>\n",
       "      <th>2</th>\n",
       "      <td>Bouygues Construction</td>\n",
       "      <td>Challenger , Guyancourt ,Saint-Quentin-en-Yvel...</td>\n",
       "      <td>bouygues-construction.com</td>\n",
       "      <td>1.230000e+10</td>\n",
       "      <td>52800</td>\n",
       "      <td>NaN</td>\n",
       "      <td>Guyancourt</td>\n",
       "      <td>NaN</td>\n",
       "      <td>NaN</td>\n",
       "      <td>NaN</td>\n",
       "      <td>NaN</td>\n",
       "    </tr>\n",
       "    <tr>\n",
       "      <th>3</th>\n",
       "      <td>BNP Parisbas</td>\n",
       "      <td>3 rue d'Antin ,Paris,75002</td>\n",
       "      <td>https://www.bnpparibas.fr/</td>\n",
       "      <td>4.438560e+10</td>\n",
       "      <td>192000</td>\n",
       "      <td>['https://twitter.com/bnpparibas', 'https://ww...</td>\n",
       "      <td>Paris</td>\n",
       "      <td>https://twitter.com/bnpparibas</td>\n",
       "      <td>https://www.linkedin.com/company/bnp-paribas</td>\n",
       "      <td>https://www.instagram.com/bnpparibas</td>\n",
       "      <td>https://www.facebook.com/mabanque.bnpparibas</td>\n",
       "    </tr>\n",
       "    <tr>\n",
       "      <th>4</th>\n",
       "      <td>HSBC</td>\n",
       "      <td>8 Canada Square,London</td>\n",
       "      <td>https://www.hsbc.com/</td>\n",
       "      <td>4.438560e+10</td>\n",
       "      <td>228000</td>\n",
       "      <td>['https://twitter.com/hsbc', 'https://www.link...</td>\n",
       "      <td>London</td>\n",
       "      <td>https://twitter.com/hsbc</td>\n",
       "      <td>https://www.linkedin.com/company/hsbc</td>\n",
       "      <td>https://www.instagram.com/hsbc</td>\n",
       "      <td>https://www.facebook.com/hsbc</td>\n",
       "    </tr>\n",
       "    <tr>\n",
       "      <th>5</th>\n",
       "      <td>Dataiku</td>\n",
       "      <td>New York</td>\n",
       "      <td>http://www.dataiku.com/</td>\n",
       "      <td>1.500000e+08</td>\n",
       "      <td>1200</td>\n",
       "      <td>['https://twitter.com/dataiku']</td>\n",
       "      <td>New York</td>\n",
       "      <td>https://twitter.com/dataiku</td>\n",
       "      <td>NaN</td>\n",
       "      <td>NaN</td>\n",
       "      <td>NaN</td>\n",
       "    </tr>\n",
       "  </tbody>\n",
       "</table>\n",
       "</div>"
      ],
      "text/plain": [
       "                    firm                                            address  \\\n",
       "0              Microsoft  One Microsoft Way ,Redmond,98052,United States...   \n",
       "1             Salesforce               415 Mission Street, San Francisco,CA   \n",
       "2  Bouygues Construction  Challenger , Guyancourt ,Saint-Quentin-en-Yvel...   \n",
       "3           BNP Parisbas                         3 rue d'Antin ,Paris,75002   \n",
       "4                   HSBC                             8 Canada Square,London   \n",
       "5                Dataiku                                           New York   \n",
       "\n",
       "                      website       revenue  N employee  \\\n",
       "0  https://www.microsoft.com/  1.982700e+11      181000   \n",
       "1  https://www.salesforce.com  2.125000e+10       35000   \n",
       "2   bouygues-construction.com  1.230000e+10       52800   \n",
       "3  https://www.bnpparibas.fr/  4.438560e+10      192000   \n",
       "4       https://www.hsbc.com/  4.438560e+10      228000   \n",
       "5     http://www.dataiku.com/  1.500000e+08        1200   \n",
       "\n",
       "                                        social media            city  \\\n",
       "0  ['https://twitter.com/microsoft', 'https://www...         Redmond   \n",
       "1  ['https://twitter.com/salesforce', 'https://ww...   San Francisco   \n",
       "2                                                NaN     Guyancourt    \n",
       "3  ['https://twitter.com/bnpparibas', 'https://ww...           Paris   \n",
       "4  ['https://twitter.com/hsbc', 'https://www.link...          London   \n",
       "5                    ['https://twitter.com/dataiku']        New York   \n",
       "\n",
       "                          twitter  \\\n",
       "0   https://twitter.com/microsoft   \n",
       "1  https://twitter.com/salesforce   \n",
       "2                             NaN   \n",
       "3  https://twitter.com/bnpparibas   \n",
       "4        https://twitter.com/hsbc   \n",
       "5     https://twitter.com/dataiku   \n",
       "\n",
       "                                       linkedIn  \\\n",
       "0    https://www.linkedin.com/company/microsoft   \n",
       "1   https://www.linkedin.com/company/salesforce   \n",
       "2                                           NaN   \n",
       "3  https://www.linkedin.com/company/bnp-paribas   \n",
       "4         https://www.linkedin.com/company/hsbc   \n",
       "5                                           NaN   \n",
       "\n",
       "                              instagram  \\\n",
       "0   https://www.instagram.com/microsoft   \n",
       "1  https://www.instagram.com/salesforce   \n",
       "2                                   NaN   \n",
       "3  https://www.instagram.com/bnpparibas   \n",
       "4        https://www.instagram.com/hsbc   \n",
       "5                                   NaN   \n",
       "\n",
       "                                       facebook  \n",
       "0            https://www.facebook.com/microsoft  \n",
       "1           https://www.facebook.com/5634829153  \n",
       "2                                           NaN  \n",
       "3  https://www.facebook.com/mabanque.bnpparibas  \n",
       "4                 https://www.facebook.com/hsbc  \n",
       "5                                           NaN  "
      ]
     },
     "execution_count": 75,
     "metadata": {},
     "output_type": "execute_result"
    }
   ],
   "source": [
    "df"
   ]
  },
  {
   "cell_type": "markdown",
   "id": "2bdb568d",
   "metadata": {},
   "source": [
    "# get city from address"
   ]
  },
  {
   "cell_type": "code",
   "execution_count": 25,
   "id": "b924fb3d",
   "metadata": {
    "ExecuteTime": {
     "end_time": "2022-11-27T10:03:33.328080Z",
     "start_time": "2022-11-27T10:03:33.318140Z"
    }
   },
   "outputs": [],
   "source": [
    "cities = [ address.split(',')[1] for address in df[\"address\"][:-1]]"
   ]
  },
  {
   "cell_type": "code",
   "execution_count": 27,
   "id": "1e832f6b",
   "metadata": {
    "ExecuteTime": {
     "end_time": "2022-11-27T10:03:55.479641Z",
     "start_time": "2022-11-27T10:03:55.462431Z"
    }
   },
   "outputs": [],
   "source": [
    " cities.append(\"New York\")"
   ]
  },
  {
   "cell_type": "code",
   "execution_count": 28,
   "id": "54d7fdb7",
   "metadata": {
    "ExecuteTime": {
     "end_time": "2022-11-27T10:03:57.489931Z",
     "start_time": "2022-11-27T10:03:57.477592Z"
    }
   },
   "outputs": [
    {
     "data": {
      "text/plain": [
       "['Redmond', ' San Francisco', ' Guyancourt ', 'Paris', 'London', 'New York']"
      ]
     },
     "execution_count": 28,
     "metadata": {},
     "output_type": "execute_result"
    }
   ],
   "source": [
    "cities"
   ]
  },
  {
   "cell_type": "code",
   "execution_count": 29,
   "id": "cad57936",
   "metadata": {
    "ExecuteTime": {
     "end_time": "2022-11-27T10:04:00.216897Z",
     "start_time": "2022-11-27T10:04:00.211916Z"
    }
   },
   "outputs": [],
   "source": [
    "df[\"city\"]=cities"
   ]
  },
  {
   "cell_type": "markdown",
   "id": "9d4cb170",
   "metadata": {},
   "source": [
    "# create a column per social media"
   ]
  },
  {
   "cell_type": "code",
   "execution_count": 62,
   "id": "46531c75",
   "metadata": {
    "ExecuteTime": {
     "end_time": "2022-11-27T10:34:58.339454Z",
     "start_time": "2022-11-27T10:34:58.333398Z"
    }
   },
   "outputs": [],
   "source": [
    "for i in [0,1,3,4,5]:\n",
    "    df.loc[i, \"twitter\"] = df.loc[i,\"social media\"].split(\"'\")[1]"
   ]
  },
  {
   "cell_type": "code",
   "execution_count": 68,
   "id": "de5c3539",
   "metadata": {
    "ExecuteTime": {
     "end_time": "2022-11-27T10:37:17.824961Z",
     "start_time": "2022-11-27T10:37:17.814070Z"
    }
   },
   "outputs": [
    {
     "data": {
      "text/plain": [
       "'https://www.facebook.com/microsoft'"
      ]
     },
     "execution_count": 68,
     "metadata": {},
     "output_type": "execute_result"
    }
   ],
   "source": [
    " df.loc[0,\"social media\"].split(\"'\")[7]"
   ]
  },
  {
   "cell_type": "code",
   "execution_count": 69,
   "id": "4ceaec7b",
   "metadata": {
    "ExecuteTime": {
     "end_time": "2022-11-27T10:37:41.111849Z",
     "start_time": "2022-11-27T10:37:41.092914Z"
    }
   },
   "outputs": [],
   "source": [
    "for i in [0,1,3,4]:\n",
    "    df.loc[i, \"linkedIn\"] = df.loc[i,\"social media\"].split(\"'\")[3]\n",
    "    df.loc[i, \"instagram\"] = df.loc[i,\"social media\"].split(\"'\")[5]\n",
    "    df.loc[i, \"facebook\"] = df.loc[i,\"social media\"].split(\"'\")[7]"
   ]
  },
  {
   "cell_type": "markdown",
   "id": "f55ce83e",
   "metadata": {},
   "source": [
    "# add missing value for dataiku"
   ]
  },
  {
   "cell_type": "code",
   "execution_count": 73,
   "id": "b3e69406",
   "metadata": {
    "ExecuteTime": {
     "end_time": "2022-11-27T10:40:51.779287Z",
     "start_time": "2022-11-27T10:40:51.773306Z"
    }
   },
   "outputs": [],
   "source": [
    "df.loc[5, \"revenue\"] = 150*1000000 #source google"
   ]
  },
  {
   "cell_type": "code",
   "execution_count": 74,
   "id": "bfa83bff",
   "metadata": {
    "ExecuteTime": {
     "end_time": "2022-11-27T10:41:01.903773Z",
     "start_time": "2022-11-27T10:41:01.885157Z"
    }
   },
   "outputs": [],
   "source": [
    "df.to_csv(\"delpha_for_tableau.csv\", index =False)"
   ]
  }
 ],
 "metadata": {
  "hide_input": false,
  "kernelspec": {
   "display_name": "Python 3 (ipykernel)",
   "language": "python",
   "name": "python3"
  },
  "language_info": {
   "codemirror_mode": {
    "name": "ipython",
    "version": 3
   },
   "file_extension": ".py",
   "mimetype": "text/x-python",
   "name": "python",
   "nbconvert_exporter": "python",
   "pygments_lexer": "ipython3",
   "version": "3.8.5"
  },
  "toc": {
   "base_numbering": 1,
   "nav_menu": {},
   "number_sections": true,
   "sideBar": true,
   "skip_h1_title": false,
   "title_cell": "Table of Contents",
   "title_sidebar": "Contents",
   "toc_cell": false,
   "toc_position": {},
   "toc_section_display": true,
   "toc_window_display": false
  }
 },
 "nbformat": 4,
 "nbformat_minor": 5
}
